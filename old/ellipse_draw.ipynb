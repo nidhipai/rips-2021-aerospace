{
 "cells": [
  {
   "cell_type": "code",
   "execution_count": 1,
   "metadata": {},
   "outputs": [
    {
     "ename": "IndentationError",
     "evalue": "unindent does not match any outer indentation level (data_generator.py, line 10)",
     "output_type": "error",
     "traceback": [
      "Traceback \u001b[0;36m(most recent call last)\u001b[0m:\n",
      "  File \u001b[1;32m\"/opt/homebrew/lib/python3.9/site-packages/IPython/core/interactiveshell.py\"\u001b[0m, line \u001b[1;32m3441\u001b[0m, in \u001b[1;35mrun_code\u001b[0m\n    exec(code_obj, self.user_global_ns, self.user_ns)\n",
      "  File \u001b[1;32m\"<ipython-input-1-3ec020ce0b4f>\"\u001b[0m, line \u001b[1;32m5\u001b[0m, in \u001b[1;35m<module>\u001b[0m\n    from twod_object import TwoDObject\n",
      "\u001b[0;36m  File \u001b[0;32m\"/Users/eduardososa/projects/python/rips-2021-aerospace/old/twod_object.py\"\u001b[0;36m, line \u001b[0;32m9\u001b[0;36m, in \u001b[0;35m<module>\u001b[0;36m\u001b[0m\n\u001b[0;31m    from data_generator import DataGenerator\u001b[0m\n",
      "\u001b[0;36m  File \u001b[0;32m\"/Users/eduardososa/projects/python/rips-2021-aerospace/old/data_generator.py\"\u001b[0;36m, line \u001b[0;32m10\u001b[0m\n\u001b[0;31m    def __init__(self, xt0, dt, Q, R):\u001b[0m\n\u001b[0m                                      ^\u001b[0m\n\u001b[0;31mIndentationError\u001b[0m\u001b[0;31m:\u001b[0m unindent does not match any outer indentation level\n"
     ]
    }
   ],
   "source": [
    "import numpy as np\n",
    "import matplotlib.pyplot as plt\n",
    "from matplotlib.patches import Ellipse\n",
    "import math\n",
    "from twod_object import TwoDObject\n",
    "from simulation import Simulation\n",
    "from kalmanfilter2 import KalmanFilter\n",
    "from palettable.mycarta import Cube1_4\n",
    "# import array_to_latex as a2l"
   ]
  },
  {
   "cell_type": "code",
   "execution_count": null,
   "metadata": {},
   "outputs": [],
   "source": [
    "plt.rcParams.update({'font.size': 22})\n",
    "fig = plt.figure(figsize = (12,12))\n",
    "colors = Cube1_4.mpl_colors\n",
    "def ellipse(mean, cov, p = [0.99,0.95,0.90]):\n",
    "    X = np.random.multivariate_normal(mean, cov, 10000 )\n",
    "    axes=plt.gca()\n",
    "    axes.set_aspect(1)\n",
    "    colors_array = np.array([colors[0]] * X.shape[0])\n",
    "    for i in range(len(p)):\n",
    "        s = -2 * math.log(1 - p[i])\n",
    "        w, v = np.linalg.eig(s*cov)\n",
    "        w = np.sqrt(w)\n",
    "        ang = math.atan2(v[0,0], v[1,0]) / math.pi * 180\n",
    "        ellipse = Ellipse(xy=mean, width= 2 * w[0], height= 2 * w[1], angle = ang, edgecolor=colors[i+1], lw=2,fc = \"none\", label = str(p[i]))\n",
    "        cos_angle = np.cos(np.radians(180.-ang))\n",
    "        sin_angle = np.sin(np.radians(180.-ang))\n",
    "\n",
    "        x_val = (X[:,0] - mean[0]) * cos_angle - (X[:,1] - mean[1]) * sin_angle\n",
    "        y_val = (X[:,0] - mean[0]) * sin_angle + (X[:,1] - mean[1]) * cos_angle \n",
    "\n",
    "        rad_cc = (x_val**2/(w[0])**2) + (y_val**2/(w[1])**2)\n",
    "        colors_array[np.where(rad_cc <= 1.)[0]] = colors[i+1]\n",
    "\n",
    "        axes.add_patch(ellipse)\n",
    "    axes.scatter(X[:,0],X[:,1],c=colors_array,linewidths=0, alpha = 1)\n",
    "    plt.legend(title = \"p-value\", loc=2, prop={'size': 15}, handleheight = 0.01)\n",
    "    plt.show()\n",
    "mean = (0,0)\n",
    "cov = np.array([[1, 0.5], [0.5, 1]])\n",
    "ellipse(mean, cov)\n"
   ]
  },
  {
   "cell_type": "code",
   "execution_count": null,
   "metadata": {},
   "outputs": [],
   "source": [
    "td = TwoDObject([np.array([[1],[1],[1],[1]])], 0.1, 0.1,5, 3, 0)\n",
    "cov = td.Q[2:,2:]\n",
    "print(cov)"
   ]
  },
  {
   "cell_type": "code",
   "execution_count": null,
   "metadata": {},
   "outputs": [],
   "source": [
    "sim = Simulation(td, KalmanFilter)"
   ]
  },
  {
   "cell_type": "code",
   "execution_count": null,
   "metadata": {},
   "outputs": [],
   "source": [
    "\n",
    "sim.generate(100)\n",
    "sim.predict()\n",
    "sim.plot_all(ellipse_freq = 0.1)\n"
   ]
  },
  {
   "cell_type": "code",
   "execution_count": 7,
   "metadata": {},
   "outputs": [
    {
     "ename": "TypeError",
     "evalue": "'module' object is not callable",
     "output_type": "error",
     "traceback": [
      "\u001b[0;31m---------------------------------------------------------------------------\u001b[0m",
      "\u001b[0;31mTypeError\u001b[0m                                 Traceback (most recent call last)",
      "\u001b[0;32m<ipython-input-7-7743d505c7df>\u001b[0m in \u001b[0;36m<module>\u001b[0;34m\u001b[0m\n\u001b[1;32m      1\u001b[0m \u001b[0;32mimport\u001b[0m \u001b[0mscipy\u001b[0m\u001b[0;34m.\u001b[0m\u001b[0moptimize\u001b[0m\u001b[0;34m\u001b[0m\u001b[0;34m\u001b[0m\u001b[0m\n\u001b[1;32m      2\u001b[0m \u001b[0marray\u001b[0m \u001b[0;34m=\u001b[0m \u001b[0;34m[\u001b[0m\u001b[0;34m[\u001b[0m\u001b[0;36m2\u001b[0m\u001b[0;34m,\u001b[0m\u001b[0;36m3\u001b[0m\u001b[0;34m]\u001b[0m\u001b[0;34m,\u001b[0m\u001b[0;34m[\u001b[0m\u001b[0;36m5\u001b[0m\u001b[0;34m,\u001b[0m\u001b[0;36m9\u001b[0m\u001b[0;34m]\u001b[0m\u001b[0;34m,\u001b[0m\u001b[0;34m[\u001b[0m\u001b[0;36m1\u001b[0m\u001b[0;34m,\u001b[0m\u001b[0;36m0\u001b[0m\u001b[0;34m]\u001b[0m\u001b[0;34m]\u001b[0m\u001b[0;34m\u001b[0m\u001b[0;34m\u001b[0m\u001b[0m\n\u001b[0;32m----> 3\u001b[0;31m \u001b[0mprint\u001b[0m\u001b[0;34m(\u001b[0m\u001b[0mlinsum\u001b[0m\u001b[0;34m(\u001b[0m\u001b[0marray\u001b[0m\u001b[0;34m)\u001b[0m\u001b[0;34m)\u001b[0m\u001b[0;34m\u001b[0m\u001b[0;34m\u001b[0m\u001b[0m\n\u001b[0m",
      "\u001b[0;31mTypeError\u001b[0m: 'module' object is not callable"
     ]
    }
   ],
   "source": [
    "import scipy.optimize\n",
    "array = [[2,3],[5,9],[1,0]]\n",
    "print(linsum(array))"
   ]
  },
  {
   "cell_type": "code",
   "execution_count": 12,
   "metadata": {},
   "outputs": [
    {
     "name": "stdout",
     "output_type": "stream",
     "text": [
      "(array([1, 2]), array([1, 0]))\n"
     ]
    }
   ],
   "source": [
    "import scipy.optimize as linsum\n",
    "print(linsum.linear_sum_assignment([[20,10],[5,9],[1,20]]))\n"
   ]
  },
  {
   "cell_type": "code",
   "execution_count": null,
   "metadata": {},
   "outputs": [],
   "source": []
  }
 ],
 "metadata": {
  "kernelspec": {
   "display_name": "Python 3",
   "language": "python",
   "name": "python3"
  },
  "language_info": {
   "codemirror_mode": {
    "name": "ipython",
    "version": 3
   },
   "file_extension": ".py",
   "mimetype": "text/x-python",
   "name": "python",
   "nbconvert_exporter": "python",
   "pygments_lexer": "ipython3",
   "version": "3.9.5"
  }
 },
 "nbformat": 4,
 "nbformat_minor": 4
}
