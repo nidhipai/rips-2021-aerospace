{
 "cells": [
  {
   "cell_type": "code",
   "execution_count": 1,
   "metadata": {},
   "outputs": [],
   "source": [
    "import numpy as np\n",
    "from DumbTruck import DumbTruck"
   ]
  },
  {
   "cell_type": "code",
   "execution_count": 2,
   "metadata": {},
   "outputs": [],
   "source": [
    "#Set up the data generation\n",
    "gen = DumbTruck()\n",
    "initial = np.array([[1],[1]])\n",
    "process = gen.process(initial, t=10, dt=0.02, k=0.1, ep=0.01)\n",
    "measure = gen.measure(process, nu=0.01)"
   ]
  },
  {
   "cell_type": "code",
   "execution_count": 3,
   "metadata": {},
   "outputs": [
    {
     "data": {
      "text/plain": [
       "array([[1.        , 2.        , 2.90641673, 3.71033539, 4.42160623,\n",
       "        5.06131302, 5.65494972, 6.20017573, 6.68381315, 7.0937582 ,\n",
       "        7.45465257],\n",
       "       [1.        , 0.90641673, 0.80391866, 0.71127084, 0.63970679,\n",
       "        0.5936367 , 0.54522601, 0.48363742, 0.40994505, 0.36089437,\n",
       "        0.33173765]])"
      ]
     },
     "execution_count": 3,
     "metadata": {},
     "output_type": "execute_result"
    }
   ],
   "source": [
    "#Inspect our outputs to make sure they are correct\n",
    "process"
   ]
  },
  {
   "cell_type": "code",
   "execution_count": 4,
   "metadata": {},
   "outputs": [
    {
     "data": {
      "text/plain": [
       "array([[1.00635731, 1.99090408, 2.9095776 , 3.69789692, 4.43116275,\n",
       "        5.07870838, 5.66174439, 6.19687229, 6.6859882 , 7.09110192,\n",
       "        7.47109612],\n",
       "       [0.99942936, 0.91977566, 0.79895199, 0.71053099, 0.61571356,\n",
       "        0.60662525, 0.54910828, 0.47903137, 0.40755847, 0.3468854 ,\n",
       "        0.32764636]])"
      ]
     },
     "execution_count": 4,
     "metadata": {},
     "output_type": "execute_result"
    }
   ],
   "source": [
    "measure"
   ]
  },
  {
   "cell_type": "code",
   "execution_count": 5,
   "metadata": {},
   "outputs": [
    {
     "data": {
      "text/plain": [
       "<matplotlib.collections.PathCollection at 0x2cadd928da0>"
      ]
     },
     "execution_count": 5,
     "metadata": {},
     "output_type": "execute_result"
    },
    {
     "data": {
      "image/png": "[encoded data removed]",
      "text/plain": [
       "<Figure size 432x288 with 1 Axes>"
      ]
     },
     "metadata": {
      "needs_background": "light"
     },
     "output_type": "display_data"
    }
   ],
   "source": [
    "#Plotting only - I use mpl but you can use something else\n",
    "import matplotlib.pyplot as plt\n",
    "plt.scatter(process[0], measure[0])\n",
    "\n",
    "#Not a ton of noise"
   ]
  },
  {
   "cell_type": "code",
   "execution_count": 6,
   "metadata": {},
   "outputs": [
    {
     "data": {
      "text/plain": [
       "<matplotlib.collections.PathCollection at 0x2cada268710>"
      ]
     },
     "execution_count": 6,
     "metadata": {},
     "output_type": "execute_result"
    },
    {
     "data": {
      "image/png": "[encoded data removed]",
      "text/plain": [
       "<Figure size 432x288 with 1 Axes>"
      ]
     },
     "metadata": {
      "needs_background": "light"
     },
     "output_type": "display_data"
    }
   ],
   "source": [
    "#Trying more measurement noise this time\n",
    "process = gen.process(initial, t=10, dt=0.02, k=0.1, ep=0.1)\n",
    "measure = gen.measure(process, nu=0.1)\n",
    "plt.scatter(process[0], measure[0])\n"
   ]
  },
  {
   "cell_type": "code",
   "execution_count": 7,
   "metadata": {},
   "outputs": [
    {
     "data": {
      "text/plain": [
       "Text(0, 0.5, 'Position')"
      ]
     },
     "execution_count": 7,
     "metadata": {},
     "output_type": "execute_result"
    },
    {
     "data": {
      "image/png": "[encoded data removed]",
      "text/plain": [
       "<Figure size 432x288 with 1 Axes>"
      ]
     },
     "metadata": {
      "needs_background": "light"
     },
     "output_type": "display_data"
    }
   ],
   "source": [
    "t = 10\n",
    "dt = .02\n",
    "plt.scatter(np.arange(0, (t + 1) * dt, 0.02), process[0])\n",
    "plt.scatter(np.arange(0, (t + 1) * dt, 0.02), measure[0])\n",
    "plt.title(\"Position vs Time\")\n",
    "plt.xlabel(\"Time\")\n",
    "plt.ylabel(\"Position\")"
   ]
  },
  {
   "cell_type": "code",
   "execution_count": 8,
   "metadata": {},
   "outputs": [
    {
     "data": {
      "text/plain": [
       "Text(0, 0.5, 'Velocity')"
      ]
     },
     "execution_count": 8,
     "metadata": {},
     "output_type": "execute_result"
    },
    {
     "data": {
      "image/png": "[encoded data removed]",
      "text/plain": [
       "<Figure size 432x288 with 1 Axes>"
      ]
     },
     "metadata": {
      "needs_background": "light"
     },
     "output_type": "display_data"
    }
   ],
   "source": [
    "t = 10\n",
    "dt = .02\n",
    "plt.scatter(np.arange(0, (t + 1) * dt, 0.02), process[1])\n",
    "plt.scatter(np.arange(0, (t + 1) * dt, 0.02), measure[1])\n",
    "plt.title(\"Velocity vs Time\")\n",
    "plt.xlabel(\"Time\")\n",
    "plt.ylabel(\"Velocity\")"
   ]
  },
  {
   "cell_type": "code",
   "execution_count": null,
   "metadata": {},
   "outputs": [],
   "source": []
  }
 ],
 "metadata": {
  "kernelspec": {
   "display_name": "Python 3",
   "language": "python",
   "name": "python3"
  },
  "language_info": {
   "codemirror_mode": {
    "name": "ipython",
    "version": 3
   },
   "file_extension": ".py",
   "mimetype": "text/x-python",
   "name": "python",
   "nbconvert_exporter": "python",
   "pygments_lexer": "ipython3",
   "version": "3.7.3"
  }
 },
 "nbformat": 4,
 "nbformat_minor": 4
}
