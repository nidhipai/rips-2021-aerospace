{
 "cells": [
  {
   "cell_type": "code",
   "execution_count": 1,
   "metadata": {},
   "outputs": [],
   "source": [
    "import numpy as np\n",
    "from DumbTruck import DumbTruck"
   ]
  },
  {
   "cell_type": "code",
   "execution_count": 2,
   "metadata": {},
   "outputs": [],
   "source": [
    "#Set up the data generation\n",
    "gen = DumbTruck()\n",
    "initial = np.array([[1],[1]])\n",
    "process = gen.process(initial, t=10, dt=0.02, k=0.1, ep=0.01)\n",
    "measure = gen.measure(process, nu=0.01)"
   ]
  },
  {
   "cell_type": "code",
   "execution_count": 3,
   "metadata": {},
   "outputs": [
    {
     "data": {
      "text/plain": [
       "array([[1.        , 2.        , 2.90075403, 3.73141107, 4.48474348,\n",
       "        5.15807446, 5.76107887, 6.31617544, 6.79815652, 7.22695709,\n",
       "        7.61673925],\n",
       "       [1.        , 0.90075403, 0.83065704, 0.75333241, 0.67333098,\n",
       "        0.60300441, 0.55509658, 0.48198108, 0.42880057, 0.38978216,\n",
       "        0.35240699]])"
      ]
     },
     "execution_count": 3,
     "metadata": {},
     "output_type": "execute_result"
    }
   ],
   "source": [
    "#Inspect our outputs to make sure they are correct\n",
    "process"
   ]
  },
  {
   "cell_type": "code",
   "execution_count": 4,
   "metadata": {},
   "outputs": [
    {
     "data": {
      "text/plain": [
       "array([[0.9959728 , 1.99613813, 2.90718888, 3.74229265, 4.48077081,\n",
       "        5.15323647, 5.77525347, 6.32154106, 6.8087244 , 7.2323926 ,\n",
       "        7.62154897],\n",
       "       [1.00441161, 0.89023195, 0.8173981 , 0.75129723, 0.67210742,\n",
       "        0.59846381, 0.54532849, 0.48029501, 0.42548676, 0.38762078,\n",
       "        0.36732008]])"
      ]
     },
     "execution_count": 4,
     "metadata": {},
     "output_type": "execute_result"
    }
   ],
   "source": [
    "measure"
   ]
  },
  {
   "cell_type": "code",
   "execution_count": 5,
   "metadata": {},
   "outputs": [
    {
     "data": {
      "text/plain": [
       "<matplotlib.collections.PathCollection at 0x19f2a5b7580>"
      ]
     },
     "execution_count": 5,
     "metadata": {},
     "output_type": "execute_result"
    },
    {
     "data": {
      "image/png": "[encoded data removed]",
      "text/plain": [
       "<Figure size 432x288 with 1 Axes>"
      ]
     },
     "metadata": {
      "needs_background": "light"
     },
     "output_type": "display_data"
    }
   ],
   "source": [
    "#Plotting only - I use mpl but you can use something else\n",
    "from matplotlib.pyplot import scatter\n",
    "scatter(process[0], measure[0])\n",
    "\n",
    "#Not a ton of noise"
   ]
  },
  {
   "cell_type": "code",
   "execution_count": 7,
   "metadata": {},
   "outputs": [
    {
     "data": {
      "text/plain": [
       "<matplotlib.collections.PathCollection at 0x19f2a95a550>"
      ]
     },
     "execution_count": 7,
     "metadata": {},
     "output_type": "execute_result"
    },
    {
     "data": {
      "image/png": "[encoded data removed]",
      "text/plain": [
       "<Figure size 432x288 with 1 Axes>"
      ]
     },
     "metadata": {
      "needs_background": "light"
     },
     "output_type": "display_data"
    }
   ],
   "source": [
    "#Trying more measurement noise this time\n",
    "process = gen.process(initial, t=10, dt=0.02, k=0.1, ep=0.1)\n",
    "measure = gen.measure(process, nu=0.1)\n",
    "scatter(process[0], measure[0])\n"
   ]
  },
  {
   "cell_type": "code",
   "execution_count": 13,
   "metadata": {},
   "outputs": [
    {
     "data": {
      "text/plain": [
       "<matplotlib.collections.PathCollection at 0x19f2acc0220>"
      ]
     },
     "execution_count": 13,
     "metadata": {},
     "output_type": "execute_result"
    },
    {
     "data": {
      "image/png": "[encoded data removed]",
      "text/plain": [
       "<Figure size 432x288 with 1 Axes>"
      ]
     },
     "metadata": {
      "needs_background": "light"
     },
     "output_type": "display_data"
    }
   ],
   "source": [
    "scatter(np.arange(0,11)*0.02, process[0], measure[0])"
   ]
  },
  {
   "cell_type": "code",
   "execution_count": null,
   "metadata": {},
   "outputs": [],
   "source": []
  }
 ],
 "metadata": {
  "kernelspec": {
   "display_name": "Python 3",
   "language": "python",
   "name": "python3"
  },
  "language_info": {
   "codemirror_mode": {
    "name": "ipython",
    "version": 3
   },
   "file_extension": ".py",
   "mimetype": "text/x-python",
   "name": "python",
   "nbconvert_exporter": "python",
   "pygments_lexer": "ipython3",
   "version": "3.8.5"
  }
 },
 "nbformat": 4,
 "nbformat_minor": 4
}
