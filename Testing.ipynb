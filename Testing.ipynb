{
 "cells": [
  {
   "cell_type": "code",
   "execution_count": 1,
   "metadata": {},
   "outputs": [],
   "source": [
    "import numpy as np\n",
    "from DumbTruck import DumbTruck"
   ]
  },
  {
   "cell_type": "code",
   "execution_count": 27,
   "metadata": {},
   "outputs": [],
   "source": [
    "#Set up the data generation\n",
    "gen = DumbTruck()\n",
    "initial = np.array([[1],[1]])\n",
    "process = gen.process(initial, t=10, dt=0.1, k=0.1, ep=0.01)\n",
    "measure = gen.measure(initial, t=10, dt=0.1, k=0.1, nu=0.01)"
   ]
  },
  {
   "cell_type": "code",
   "execution_count": 28,
   "metadata": {},
   "outputs": [
    {
     "data": {
      "text/plain": [
       "array([[1.        , 2.        , 2.89794393, 3.68054554, 4.39321869,\n",
       "        5.02166031, 5.58270067, 6.08802561, 6.54963386, 6.97335   ,\n",
       "        7.33564308],\n",
       "       [1.        , 0.89794393, 0.78260161, 0.71267315, 0.62844163,\n",
       "        0.56104035, 0.50532494, 0.46160825, 0.42371614, 0.36229308,\n",
       "        0.32757988]])"
      ]
     },
     "execution_count": 28,
     "metadata": {},
     "output_type": "execute_result"
    }
   ],
   "source": [
    "#Inspect our outputs to make sure they are correct\n",
    "process"
   ]
  },
  {
   "cell_type": "code",
   "execution_count": 29,
   "metadata": {},
   "outputs": [
    {
     "data": {
      "text/plain": [
       "array([[1.        , 2.        , 2.91023489, 3.72528265, 4.44609443,\n",
       "        5.09749306, 5.6830569 , 6.19530784, 6.65741386, 7.0937787 ,\n",
       "        7.47883062],\n",
       "       [1.        , 0.91023489, 0.81504776, 0.72081179, 0.65139862,\n",
       "        0.58556384, 0.51225095, 0.46210601, 0.43636484, 0.38505192,\n",
       "        0.34056681]])"
      ]
     },
     "execution_count": 29,
     "metadata": {},
     "output_type": "execute_result"
    }
   ],
   "source": [
    "measure"
   ]
  },
  {
   "cell_type": "code",
   "execution_count": 30,
   "metadata": {},
   "outputs": [
    {
     "data": {
      "text/plain": [
       "array([1.        , 0.89794393, 0.78260161, 0.71267315, 0.62844163,\n",
       "       0.56104035, 0.50532494, 0.46160825, 0.42371614, 0.36229308,\n",
       "       0.32757988])"
      ]
     },
     "execution_count": 30,
     "metadata": {},
     "output_type": "execute_result"
    }
   ],
   "source": [
    "process[1]"
   ]
  },
  {
   "cell_type": "code",
   "execution_count": 31,
   "metadata": {},
   "outputs": [
    {
     "data": {
      "text/plain": [
       "<matplotlib.collections.PathCollection at 0x1ada84b8550>"
      ]
     },
     "execution_count": 31,
     "metadata": {},
     "output_type": "execute_result"
    },
    {
     "data": {
      "image/png": "[encoded data removed]",
      "text/plain": [
       "<Figure size 432x288 with 1 Axes>"
      ]
     },
     "metadata": {
      "needs_background": "light"
     },
     "output_type": "display_data"
    }
   ],
   "source": [
    "#Plotting only - I use mpl but you can use something else\n",
    "from matplotlib.pyplot import scatter\n",
    "scatter(process[0], measure[0])\n",
    "\n",
    "#Not a ton of noise"
   ]
  },
  {
   "cell_type": "code",
   "execution_count": 35,
   "metadata": {},
   "outputs": [
    {
     "data": {
      "text/plain": [
       "<matplotlib.collections.PathCollection at 0x1ada83e56a0>"
      ]
     },
     "execution_count": 35,
     "metadata": {},
     "output_type": "execute_result"
    },
    {
     "data": {
      "image/png": "[encoded data removed]",
      "text/plain": [
       "<Figure size 432x288 with 1 Axes>"
      ]
     },
     "metadata": {
      "needs_background": "light"
     },
     "output_type": "display_data"
    }
   ],
   "source": [
    "#Trying more measurement noise this time\n",
    "process = gen.process(initial, t=10, dt=0.1, k=0.1, ep=0.01)\n",
    "measure = gen.measure(initial, t=10, dt=0.1, k=0.1, nu=0.5)\n",
    "scatter(process[0], measure[0])\n"
   ]
  }
 ],
 "metadata": {
  "kernelspec": {
   "display_name": "Python 3",
   "language": "python",
   "name": "python3"
  },
  "language_info": {
   "codemirror_mode": {
    "name": "ipython",
    "version": 3
   },
   "file_extension": ".py",
   "mimetype": "text/x-python",
   "name": "python",
   "nbconvert_exporter": "python",
   "pygments_lexer": "ipython3",
   "version": "3.8.5"
  }
 },
 "nbformat": 4,
 "nbformat_minor": 4
}
