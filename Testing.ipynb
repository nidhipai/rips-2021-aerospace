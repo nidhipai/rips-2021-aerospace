{
 "cells": [
  {
   "cell_type": "code",
   "execution_count": 1,
   "metadata": {},
   "outputs": [],
   "source": [
    "import numpy as np\n",
    "from DumbTruck import DumbTruck\n",
    "from kalmanfilter import KalmanFilter"
   ]
  },
  {
   "cell_type": "code",
   "execution_count": 14,
   "metadata": {},
   "outputs": [],
   "source": [
    "#Set up the data generation\n",
    "t = 100\n",
    "dt = 1\n",
    "k = 0.1\n",
    "ep = 0.01\n",
    "nu = 0.01\n",
    "\n",
    "gen = DumbTruck()\n",
    "initial = np.array([[1],[1]])\n",
    "process = gen.process(initial, t=t, dt=dt, k=k, ep=ep)\n",
    "measure = gen.measure(process, nu=nu)"
   ]
  },
  {
   "cell_type": "code",
   "execution_count": 15,
   "metadata": {},
   "outputs": [
    {
     "data": {
      "text/plain": [
       "array([[ 1.00000000e+00,  2.00000000e+00,  2.88275472e+00,\n",
       "         3.69826822e+00,  4.43539456e+00,  5.10656904e+00,\n",
       "         5.71745987e+00,  6.24776805e+00,  6.72727914e+00,\n",
       "         7.15914875e+00,  7.55026382e+00,  7.89689118e+00,\n",
       "         8.20113931e+00,  8.47650410e+00,  8.72248866e+00,\n",
       "         8.94289734e+00,  9.14893936e+00,  9.32583392e+00,\n",
       "         9.50336024e+00,  9.67676703e+00,  9.84959024e+00,\n",
       "         1.00071458e+01,  1.01465886e+01,  1.02707037e+01,\n",
       "         1.03751561e+01,  1.04697227e+01,  1.05415933e+01,\n",
       "         1.06140701e+01,  1.06868591e+01,  1.07452148e+01,\n",
       "         1.08035066e+01,  1.08632723e+01,  1.09101648e+01,\n",
       "         1.09476211e+01,  1.09692206e+01,  1.10043160e+01,\n",
       "         1.10510029e+01,  1.11072552e+01,  1.11692982e+01,\n",
       "         1.12282169e+01,  1.12817699e+01,  1.13337450e+01,\n",
       "         1.13669812e+01,  1.14034588e+01,  1.14367657e+01,\n",
       "         1.14680016e+01,  1.14979306e+01,  1.15124604e+01,\n",
       "         1.15343168e+01,  1.15564966e+01,  1.15697231e+01,\n",
       "         1.15895954e+01,  1.16094612e+01,  1.16217758e+01,\n",
       "         1.16210207e+01,  1.16147453e+01,  1.16074373e+01,\n",
       "         1.16179975e+01,  1.16263647e+01,  1.16343015e+01,\n",
       "         1.16453352e+01,  1.16563541e+01,  1.16650193e+01,\n",
       "         1.16635696e+01,  1.16584634e+01,  1.16640442e+01,\n",
       "         1.16517950e+01,  1.16399466e+01,  1.16398907e+01,\n",
       "         1.16504294e+01,  1.16573473e+01,  1.16631599e+01,\n",
       "         1.16660593e+01,  1.16514316e+01,  1.16437230e+01,\n",
       "         1.16318702e+01,  1.16144702e+01,  1.15830427e+01,\n",
       "         1.15692781e+01,  1.15484333e+01,  1.15286275e+01,\n",
       "         1.15088491e+01,  1.14832572e+01,  1.14540595e+01,\n",
       "         1.14181230e+01,  1.13770847e+01,  1.13452980e+01,\n",
       "         1.13210611e+01,  1.13035679e+01,  1.12819093e+01,\n",
       "         1.12791997e+01,  1.12981649e+01,  1.13261665e+01,\n",
       "         1.13457683e+01,  1.13508070e+01,  1.13383214e+01,\n",
       "         1.13110576e+01,  1.12747461e+01,  1.12358145e+01,\n",
       "         1.12113460e+01,  1.11956448e+01],\n",
       "       [ 1.00000000e+00,  8.82754725e-01,  8.15513499e-01,\n",
       "         7.37126337e-01,  6.71174481e-01,  6.10890831e-01,\n",
       "         5.30308176e-01,  4.79511094e-01,  4.31869605e-01,\n",
       "         3.91115071e-01,  3.46627359e-01,  3.04248131e-01,\n",
       "         2.75364791e-01,  2.45984560e-01,  2.20408683e-01,\n",
       "         2.06042015e-01,  1.76894558e-01,  1.77526326e-01,\n",
       "         1.73406791e-01,  1.72823212e-01,  1.57555512e-01,\n",
       "         1.39442800e-01,  1.24115131e-01,  1.04452452e-01,\n",
       "         9.45665166e-02,  7.18706011e-02,  7.24768012e-02,\n",
       "         7.27890530e-02,  5.83556794e-02,  5.82917813e-02,\n",
       "         5.97656875e-02,  4.68925628e-02,  3.74563257e-02,\n",
       "         2.15994045e-02,  3.50954280e-02,  4.66869362e-02,\n",
       "         5.62523198e-02,  6.20429764e-02,  5.89186605e-02,\n",
       "         5.35530414e-02,  5.19751019e-02,  3.32361552e-02,\n",
       "         3.64776548e-02,  3.33068849e-02,  3.12359057e-02,\n",
       "         2.99290169e-02,  1.45298018e-02,  2.18564109e-02,\n",
       "         2.21797797e-02,  1.32264479e-02,  1.98723529e-02,\n",
       "         1.98657580e-02,  1.23145839e-02, -7.55089061e-04,\n",
       "        -6.27534350e-03, -7.30799125e-03,  1.05601513e-02,\n",
       "         8.36717191e-03,  7.93681801e-03,  1.10336964e-02,\n",
       "         1.10188783e-02,  8.66527945e-03, -1.44972276e-03,\n",
       "        -5.10618840e-03,  5.58072467e-03, -1.22491485e-02,\n",
       "        -1.18483693e-02, -5.59151305e-05,  1.05386626e-02,\n",
       "         6.91795480e-03,  5.81259588e-03,  2.89936279e-03,\n",
       "        -1.46276510e-02, -7.70865007e-03, -1.18527512e-02,\n",
       "        -1.74000752e-02, -3.14275111e-02, -1.37645150e-02,\n",
       "        -2.08448848e-02, -1.98057605e-02, -1.97783806e-02,\n",
       "        -2.55919217e-02, -2.91977160e-02, -3.59364517e-02,\n",
       "        -4.10383049e-02, -3.17867557e-02, -2.42368918e-02,\n",
       "        -1.74931346e-02, -2.16585931e-02, -2.70965885e-03,\n",
       "         1.89652278e-02,  2.80015619e-02,  1.96018359e-02,\n",
       "         5.03872683e-03, -1.24856539e-02, -2.72638319e-02,\n",
       "        -3.63115061e-02, -3.89315509e-02, -2.44685027e-02,\n",
       "        -1.57011556e-02, -1.85789529e-02]])"
      ]
     },
     "execution_count": 15,
     "metadata": {},
     "output_type": "execute_result"
    }
   ],
   "source": [
    "#Inspect our outputs to make sure they are correct\n",
    "process"
   ]
  },
  {
   "cell_type": "code",
   "execution_count": 16,
   "metadata": {},
   "outputs": [
    {
     "data": {
      "text/plain": [
       "array([[ 1.01099565e+00,  1.98995399e+00,  2.87890898e+00,\n",
       "         3.69872459e+00,  4.43268253e+00,  5.10625048e+00,\n",
       "         5.72096693e+00,  6.25238203e+00,  6.71707246e+00,\n",
       "         7.15400765e+00,  7.58017080e+00,  7.90541006e+00,\n",
       "         8.19157470e+00,  8.47692305e+00,  8.73825245e+00,\n",
       "         8.95112680e+00,  9.15372705e+00,  9.32039059e+00,\n",
       "         9.48813509e+00,  9.66743448e+00,  9.85695370e+00,\n",
       "         1.00068027e+01,  1.01472098e+01,  1.02785081e+01,\n",
       "         1.03761118e+01,  1.04740497e+01,  1.05713316e+01,\n",
       "         1.06145781e+01,  1.06885887e+01,  1.07494665e+01,\n",
       "         1.07981822e+01,  1.08663358e+01,  1.09023517e+01,\n",
       "         1.09393785e+01,  1.09572098e+01,  1.10035106e+01,\n",
       "         1.10596341e+01,  1.11109188e+01,  1.11744456e+01,\n",
       "         1.12529956e+01,  1.12745078e+01,  1.13386717e+01,\n",
       "         1.13935664e+01,  1.14125751e+01,  1.14419464e+01,\n",
       "         1.14725908e+01,  1.14939258e+01,  1.15080981e+01,\n",
       "         1.15321851e+01,  1.15546145e+01,  1.15814243e+01,\n",
       "         1.15965686e+01,  1.16035706e+01,  1.16157095e+01,\n",
       "         1.16058937e+01,  1.16148022e+01,  1.16210007e+01,\n",
       "         1.16155426e+01,  1.16173431e+01,  1.16504116e+01,\n",
       "         1.16328296e+01,  1.16451501e+01,  1.16689344e+01,\n",
       "         1.16536059e+01,  1.16550490e+01,  1.16658714e+01,\n",
       "         1.16532655e+01,  1.16266705e+01,  1.16362488e+01,\n",
       "         1.16460291e+01,  1.16524192e+01,  1.16437157e+01,\n",
       "         1.16567567e+01,  1.16496391e+01,  1.16371720e+01,\n",
       "         1.16359957e+01,  1.16046001e+01,  1.15830726e+01,\n",
       "         1.15702812e+01,  1.15460075e+01,  1.15249413e+01,\n",
       "         1.15070187e+01,  1.14919095e+01,  1.14494750e+01,\n",
       "         1.14148268e+01,  1.13752663e+01,  1.13448751e+01,\n",
       "         1.13119712e+01,  1.13001549e+01,  1.12686610e+01,\n",
       "         1.12788872e+01,  1.12993795e+01,  1.13202207e+01,\n",
       "         1.13501208e+01,  1.13600226e+01,  1.13376595e+01,\n",
       "         1.13014901e+01,  1.12708255e+01,  1.12428011e+01,\n",
       "         1.12048703e+01,  1.11846296e+01],\n",
       "       [ 9.93249412e-01,  8.91574623e-01,  8.26147560e-01,\n",
       "         7.22264433e-01,  6.67608585e-01,  6.17734500e-01,\n",
       "         5.39168033e-01,  4.78838391e-01,  4.43543297e-01,\n",
       "         3.86133863e-01,  3.35505803e-01,  2.97354805e-01,\n",
       "         2.79177069e-01,  2.62647716e-01,  2.21402946e-01,\n",
       "         1.97670232e-01,  1.83249813e-01,  1.86533950e-01,\n",
       "         1.59653755e-01,  1.71497528e-01,  1.67751560e-01,\n",
       "         1.39085409e-01,  1.20949339e-01,  9.18555848e-02,\n",
       "         1.05084683e-01,  7.99199618e-02,  7.78328950e-02,\n",
       "         9.19055761e-02,  4.16340681e-02,  4.94061480e-02,\n",
       "         7.73380353e-02,  4.84928693e-02,  4.30762028e-02,\n",
       "         1.68683360e-02,  3.21475605e-02,  5.78717250e-02,\n",
       "         4.43976806e-02,  6.42963415e-02,  6.14621396e-02,\n",
       "         5.18094234e-02,  6.55278744e-02,  3.09236524e-02,\n",
       "         3.68469773e-02,  3.12615872e-02,  4.39346812e-02,\n",
       "         3.12188168e-02,  3.41789914e-02,  2.93037684e-02,\n",
       "         2.20754316e-02,  1.98231898e-02,  2.38451265e-02,\n",
       "         1.49414854e-02, -4.47104693e-04, -2.04119536e-02,\n",
       "        -4.43302601e-03, -2.17368466e-02,  1.71845963e-02,\n",
       "         1.52132337e-02,  1.66415942e-02,  1.62482233e-02,\n",
       "         1.57402588e-02,  8.68427898e-03, -2.10854040e-02,\n",
       "         1.28689986e-02,  7.24644758e-03, -2.76102451e-03,\n",
       "         4.77171762e-03, -1.65501468e-02,  2.34450406e-02,\n",
       "         8.85272670e-03,  1.77485142e-02,  1.91648545e-02,\n",
       "        -3.94650803e-02, -4.70814282e-03, -1.88512380e-02,\n",
       "        -1.93190581e-02, -3.43637088e-02, -1.42700631e-02,\n",
       "        -4.59885952e-02, -1.86519270e-02, -2.28804752e-02,\n",
       "        -2.61888331e-02, -2.59982500e-02, -4.63595462e-02,\n",
       "        -3.39607429e-02, -3.79463783e-02, -3.27349280e-02,\n",
       "        -1.31978797e-02, -2.26994558e-02,  1.46177203e-02,\n",
       "         2.02028896e-02,  2.43685948e-02,  1.35774442e-02,\n",
       "         2.07683591e-02, -7.68163719e-03, -3.42499751e-02,\n",
       "        -5.04139324e-02, -3.83246439e-02, -2.80654116e-02,\n",
       "        -2.55022694e-02, -2.62972853e-02]])"
      ]
     },
     "execution_count": 16,
     "metadata": {},
     "output_type": "execute_result"
    }
   ],
   "source": [
    "measure"
   ]
  },
  {
   "cell_type": "code",
   "execution_count": 19,
   "metadata": {},
   "outputs": [
    {
     "data": {
      "text/plain": [
       "Text(0, 0.5, 'Position')"
      ]
     },
     "execution_count": 19,
     "metadata": {},
     "output_type": "execute_result"
    },
    {
     "data": {
      "image/png": "[encoded data removed]",
      "text/plain": [
       "<Figure size 432x288 with 1 Axes>"
      ]
     },
     "metadata": {
      "needs_background": "light"
     },
     "output_type": "display_data"
    }
   ],
   "source": [
    "plt.scatter(np.arange(0, (t + 1) * dt, dt), process[0])\n",
    "plt.scatter(np.arange(0, (t + 1) * dt, dt), measure[0])\n",
    "plt.title(\"Position vs Time\")\n",
    "plt.xlabel(\"Time\")\n",
    "plt.ylabel(\"Position\")"
   ]
  },
  {
   "cell_type": "code",
   "execution_count": 20,
   "metadata": {},
   "outputs": [
    {
     "data": {
      "text/plain": [
       "Text(0, 0.5, 'Velocity')"
      ]
     },
     "execution_count": 20,
     "metadata": {},
     "output_type": "execute_result"
    },
    {
     "data": {
      "image/png": "[encoded data removed]",
      "text/plain": [
       "<Figure size 432x288 with 1 Axes>"
      ]
     },
     "metadata": {
      "needs_background": "light"
     },
     "output_type": "display_data"
    }
   ],
   "source": [
    "plt.scatter(np.arange(0, (t + 1) * dt, dt), process[1])\n",
    "plt.scatter(np.arange(0, (t + 1) * dt, dt), measure[1])\n",
    "plt.title(\"Velocity vs Time\")\n",
    "plt.xlabel(\"Time\")\n",
    "plt.ylabel(\"Velocity\")"
   ]
  },
  {
   "cell_type": "code",
   "execution_count": 21,
   "metadata": {},
   "outputs": [],
   "source": [
    "output = np.array([[], []])\n",
    "filter = KalmanFilter(initial, dt, k, ep, nu, nu)\n",
    "for i in range(t+1):\n",
    "    measure_t = measure[:,i]\n",
    "    measure_t.shape = (2,1)\n",
    "    filter.predict(measure_t)\n",
    "    kalman_output = filter.get_current_guess()\n",
    "    output = np.append(output, kalman_output, axis=1)"
   ]
  },
  {
   "cell_type": "code",
   "execution_count": 22,
   "metadata": {},
   "outputs": [
    {
     "data": {
      "text/plain": [
       "(2, 101)"
      ]
     },
     "execution_count": 22,
     "metadata": {},
     "output_type": "execute_result"
    }
   ],
   "source": [
    "measure.shape"
   ]
  },
  {
   "cell_type": "code",
   "execution_count": 24,
   "metadata": {},
   "outputs": [
    {
     "data": {
      "text/plain": [
       "Text(0, 0.5, 'Position')"
      ]
     },
     "execution_count": 24,
     "metadata": {},
     "output_type": "execute_result"
    },
    {
     "data": {
      "image/png": "[encoded data removed]",
      "text/plain": [
       "<Figure size 432x288 with 1 Axes>"
      ]
     },
     "metadata": {
      "needs_background": "light"
     },
     "output_type": "display_data"
    }
   ],
   "source": [
    "plt.scatter(np.arange(0, (t + 1) * dt,dt), process[0])\n",
    "plt.scatter(np.arange(0, (t + 1) * dt, dt), measure[0])\n",
    "plt.scatter(np.arange(0, (t + 1) * dt, dt), output[0])\n",
    "plt.title(\"Position vs Time\")\n",
    "plt.xlabel(\"Time\")\n",
    "plt.ylabel(\"Position\")"
   ]
  },
  {
   "cell_type": "code",
   "execution_count": 26,
   "metadata": {},
   "outputs": [
    {
     "data": {
      "text/plain": [
       "Text(0, 0.5, 'Velocity')"
      ]
     },
     "execution_count": 26,
     "metadata": {},
     "output_type": "execute_result"
    },
    {
     "data": {
      "image/png": "[encoded data removed]",
      "text/plain": [
       "<Figure size 432x288 with 1 Axes>"
      ]
     },
     "metadata": {
      "needs_background": "light"
     },
     "output_type": "display_data"
    }
   ],
   "source": [
    "plt.scatter(np.arange(0, (t + 1) * dt, dt), process[1])\n",
    "plt.scatter(np.arange(0, (t + 1) * dt, dt), measure[1])\n",
    "plt.scatter(np.arange(0, (t + 1) * dt, dt), output[1])\n",
    "plt.title(\"Velocity vs Time\")\n",
    "plt.xlabel(\"Time\")\n",
    "plt.ylabel(\"Velocity\")"
   ]
  },
  {
   "cell_type": "code",
   "execution_count": 13,
   "metadata": {},
   "outputs": [
    {
     "data": {
      "text/plain": [
       "array([[1.00162954, 1.03477978, 1.05001891, 1.07872924, 1.09171725,\n",
       "        1.11815684, 1.13798666, 1.15722642, 1.17395519, 1.19594486,\n",
       "        1.21584266, 1.23569911, 1.25586628, 1.27423854, 1.29429202,\n",
       "        1.31337075, 1.3342925 , 1.35293337, 1.37287004, 1.39123036,\n",
       "        1.41096674, 1.42950736, 1.44924124, 1.46870001, 1.48810503,\n",
       "        1.50655759, 1.52563705, 1.54453062, 1.56289375, 1.58258586,\n",
       "        1.60143771, 1.61992625, 1.63894221, 1.65766315, 1.67580371,\n",
       "        1.69454036, 1.71330743, 1.73200818, 1.75079742, 1.76954416,\n",
       "        1.78774152, 1.80618841, 1.82449759, 1.84224964, 1.86110716,\n",
       "        1.87904712, 1.89778754, 1.91534819, 1.93389415, 1.95174565,\n",
       "        1.96989338, 1.98818684, 2.00592514, 2.02426305, 2.04236777,\n",
       "        2.06035545, 2.07824263, 2.09592899, 2.11343274, 2.13147635,\n",
       "        2.14904339, 2.16693216, 2.18460913, 2.20197067, 2.21997197,\n",
       "        2.23756155, 2.25489825, 2.27190832, 2.29027807, 2.30741781,\n",
       "        2.32451625, 2.34201302, 2.3596408 , 2.3769025 , 2.39436195,\n",
       "        2.41104236, 2.42828025, 2.44558631, 2.46296169, 2.47959857,\n",
       "        2.49643141, 2.51348562, 2.5307893 , 2.54768506, 2.56446428,\n",
       "        2.58131975, 2.59777506, 2.6152443 , 2.63162443, 2.6490248 ,\n",
       "        2.66541914, 2.68206424, 2.6986182 , 2.71476832, 2.73162918,\n",
       "        2.74825432, 2.76501941, 2.78145195, 2.79738876, 2.81376936,\n",
       "        2.83044944],\n",
       "       [0.99023885, 0.99187919, 1.00101038, 0.98858521, 0.99405971,\n",
       "        0.97964484, 0.99426593, 0.98177882, 0.96678425, 0.98430766,\n",
       "        0.97329469, 0.96890801, 0.97234561, 0.96789204, 0.97908182,\n",
       "        0.96267646, 0.9707325 , 0.96142354, 0.96499772, 0.95628691,\n",
       "        0.9555277 , 0.96067809, 0.94759124, 0.9598435 , 0.94630305,\n",
       "        0.95472624, 0.94612092, 0.94893019, 0.947369  , 0.94131427,\n",
       "        0.94795945, 0.94570416, 0.94789263, 0.94140469, 0.94055744,\n",
       "        0.94093208, 0.92130773, 0.93253267, 0.92242861, 0.93441314,\n",
       "        0.92132776, 0.92842385, 0.92294702, 0.91151112, 0.91911428,\n",
       "        0.91397788, 0.90099727, 0.90909269, 0.91898665, 0.90784567,\n",
       "        0.90759877, 0.90926257, 0.8974586 , 0.89842857, 0.90217929,\n",
       "        0.89943174, 0.896751  , 0.89129659, 0.8834566 , 0.89797066,\n",
       "        0.88283693, 0.88848463, 0.88292484, 0.8774568 , 0.88525386,\n",
       "        0.87436305, 0.87474994, 0.87922422, 0.87093863, 0.87293941,\n",
       "        0.8666738 , 0.87769357, 0.87422383, 0.86509517, 0.87132155,\n",
       "        0.86081712, 0.85306321, 0.86393678, 0.84945455, 0.85678238,\n",
       "        0.83573689, 0.84942819, 0.84275385, 0.85260863, 0.84585062,\n",
       "        0.8503242 , 0.83565842, 0.84536025, 0.84359754, 0.8328472 ,\n",
       "        0.8314413 , 0.83724995, 0.82245837, 0.81624838, 0.82882043,\n",
       "        0.81784111, 0.83422642, 0.83252347, 0.81750698, 0.81546322,\n",
       "        0.82879246]])"
      ]
     },
     "execution_count": 13,
     "metadata": {},
     "output_type": "execute_result"
    }
   ],
   "source": [
    "output"
   ]
  },
  {
   "cell_type": "code",
   "execution_count": null,
   "metadata": {},
   "outputs": [],
   "source": []
  }
 ],
 "metadata": {
  "kernelspec": {
   "display_name": "Python 3",
   "language": "python",
   "name": "python3"
  },
  "language_info": {
   "codemirror_mode": {
    "name": "ipython",
    "version": 3
   },
   "file_extension": ".py",
   "mimetype": "text/x-python",
   "name": "python",
   "nbconvert_exporter": "python",
   "pygments_lexer": "ipython3",
   "version": "3.8.5"
  }
 },
 "nbformat": 4,
 "nbformat_minor": 4
}
