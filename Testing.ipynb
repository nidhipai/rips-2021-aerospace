{
 "cells": [
  {
   "cell_type": "code",
   "execution_count": 1,
   "metadata": {},
   "outputs": [],
   "source": [
    "import numpy as np\n",
    "from DumbTruck import DumbTruck"
   ]
  },
  {
   "cell_type": "code",
   "execution_count": 2,
   "metadata": {},
   "outputs": [],
   "source": [
    "#Set up the data generation\n",
    "gen = DumbTruck()\n",
    "initial = np.array([[1],[1]])\n",
    "process = gen.process(initial, t=10, dt=0.02, k=0.1, ep=0.01)\n",
    "measure = gen.measure(process, nu=0.01)"
   ]
  },
  {
   "cell_type": "code",
   "execution_count": 3,
   "metadata": {},
   "outputs": [
    {
     "data": {
      "text/plain": [
       "array([[1.        , 2.        , 2.90249576, 3.71596651, 4.45388839,\n",
       "        5.11982988, 5.7063104 , 6.23652857, 6.70710318, 7.13407908,\n",
       "        7.53130917],\n",
       "       [1.        , 0.90249576, 0.81347075, 0.73792188, 0.66594149,\n",
       "        0.58648052, 0.53021817, 0.47057461, 0.4269759 , 0.39723009,\n",
       "        0.35939241]])"
      ]
     },
     "execution_count": 3,
     "metadata": {},
     "output_type": "execute_result"
    }
   ],
   "source": [
    "#Inspect our outputs to make sure they are correct\n",
    "process"
   ]
  },
  {
   "cell_type": "code",
   "execution_count": 4,
   "metadata": {},
   "outputs": [
    {
     "data": {
      "text/plain": [
       "array([[1.        , 2.        , 2.90249576, 3.71596651, 4.45388839,\n",
       "        5.11982988, 5.7063104 , 6.23652857, 6.70710318, 7.13407908,\n",
       "        7.53130917],\n",
       "       [1.00336692, 0.91416259, 0.80258031, 0.73994525, 0.66671339,\n",
       "        0.60557417, 0.54355761, 0.466759  , 0.43079536, 0.43199985,\n",
       "        0.36405297]])"
      ]
     },
     "execution_count": 4,
     "metadata": {},
     "output_type": "execute_result"
    }
   ],
   "source": [
    "measure"
   ]
  },
  {
   "cell_type": "code",
   "execution_count": 5,
   "metadata": {},
   "outputs": [
    {
     "data": {
      "text/plain": [
       "<matplotlib.collections.PathCollection at 0x17baa848580>"
      ]
     },
     "execution_count": 5,
     "metadata": {},
     "output_type": "execute_result"
    },
    {
     "data": {
      "image/png": "[encoded data removed]",
      "text/plain": [
       "<Figure size 432x288 with 1 Axes>"
      ]
     },
     "metadata": {
      "needs_background": "light"
     },
     "output_type": "display_data"
    }
   ],
   "source": [
    "#Plotting only - I use mpl but you can use something else\n",
    "from matplotlib.pyplot import scatter\n",
    "scatter(process[0], measure[0])\n",
    "\n",
    "#Not a ton of noise"
   ]
  },
  {
   "cell_type": "code",
   "execution_count": 8,
   "metadata": {},
   "outputs": [
    {
     "data": {
      "text/plain": [
       "<matplotlib.collections.PathCollection at 0x17baad9af70>"
      ]
     },
     "execution_count": 8,
     "metadata": {},
     "output_type": "execute_result"
    },
    {
     "data": {
      "image/png": "[encoded data removed]",
      "text/plain": [
       "<Figure size 432x288 with 1 Axes>"
      ]
     },
     "metadata": {
      "needs_background": "light"
     },
     "output_type": "display_data"
    }
   ],
   "source": [
    "#Trying more measurement noise this time\n",
    "process = gen.process(initial, t=10, dt=0.02, k=0.1, ep=0.01)\n",
    "measure = gen.measure(process, nu=0.5)\n",
    "scatter(process[0], measure[0])\n"
   ]
  },
  {
   "cell_type": "code",
   "execution_count": 44,
   "metadata": {},
   "outputs": [
    {
     "data": {
      "text/plain": [
       "2"
      ]
     },
     "execution_count": 44,
     "metadata": {},
     "output_type": "execute_result"
    }
   ],
   "source": [
    "len(process)"
   ]
  },
  {
   "cell_type": "code",
   "execution_count": 53,
   "metadata": {},
   "outputs": [],
   "source": [
    "output = np.array([[],[]])\n"
   ]
  },
  {
   "cell_type": "code",
   "execution_count": 54,
   "metadata": {},
   "outputs": [
    {
     "data": {
      "text/plain": [
       "array([], shape=(2, 0), dtype=float64)"
      ]
     },
     "execution_count": 54,
     "metadata": {},
     "output_type": "execute_result"
    }
   ],
   "source": [
    "output"
   ]
  },
  {
   "cell_type": "code",
   "execution_count": 59,
   "metadata": {},
   "outputs": [
    {
     "ename": "TypeError",
     "evalue": "measure_step() missing 4 required positional arguments: 'dt', 'k', 'ep', and 'nu'",
     "output_type": "error",
     "traceback": [
      "\u001b[1;31m---------------------------------------------------------------------------\u001b[0m",
      "\u001b[1;31mTypeError\u001b[0m                                 Traceback (most recent call last)",
      "\u001b[1;32m<ipython-input-59-f36d6c0b9388>\u001b[0m in \u001b[0;36m<module>\u001b[1;34m\u001b[0m\n\u001b[1;32m----> 1\u001b[1;33m \u001b[0mxt_measure\u001b[0m \u001b[1;33m=\u001b[0m \u001b[0mDumbTruck\u001b[0m\u001b[1;33m.\u001b[0m\u001b[0mmeasure_step\u001b[0m\u001b[1;33m(\u001b[0m\u001b[0mprocess\u001b[0m\u001b[1;33m[\u001b[0m\u001b[1;33m:\u001b[0m\u001b[1;33m,\u001b[0m\u001b[1;36m1\u001b[0m\u001b[1;33m]\u001b[0m\u001b[1;33m,\u001b[0m \u001b[1;36m0.1\u001b[0m\u001b[1;33m)\u001b[0m\u001b[1;33m\u001b[0m\u001b[1;33m\u001b[0m\u001b[0m\n\u001b[0m\u001b[0;32m      2\u001b[0m \u001b[0moutput\u001b[0m \u001b[1;33m=\u001b[0m \u001b[0mnp\u001b[0m\u001b[1;33m.\u001b[0m\u001b[0mappend\u001b[0m\u001b[1;33m(\u001b[0m\u001b[0moutput\u001b[0m\u001b[1;33m,\u001b[0m \u001b[0mxt_measure\u001b[0m\u001b[1;33m,\u001b[0m \u001b[0maxis\u001b[0m\u001b[1;33m=\u001b[0m\u001b[1;36m1\u001b[0m\u001b[1;33m)\u001b[0m\u001b[1;33m\u001b[0m\u001b[1;33m\u001b[0m\u001b[0m\n",
      "\u001b[1;31mTypeError\u001b[0m: measure_step() missing 4 required positional arguments: 'dt', 'k', 'ep', and 'nu'"
     ]
    }
   ],
   "source": [
    "xt_measure = DumbTruck.measure_step(process[:,1], 0.1)\n",
    "output = np.append(output, xt_measure, axis=1)"
   ]
  },
  {
   "cell_type": "code",
   "execution_count": 6,
   "metadata": {},
   "outputs": [
    {
     "data": {
      "text/plain": [
       "array([[2.        , 0.92277793, 2.        , 0.92277793, 2.        ,\n",
       "        0.92277793, 2.        , 0.92277793, 2.        , 0.92277793,\n",
       "        2.        , 0.92277793, 2.        , 0.92277793, 2.        ,\n",
       "        0.92277793, 2.        , 0.92277793, 2.        , 0.92277793,\n",
       "        2.        , 0.92277793],\n",
       "       [1.99933257, 0.9221105 , 1.99559628, 0.91837421, 1.97112399,\n",
       "        0.89390191, 2.00356532, 0.92634325, 2.00351389, 0.92629181,\n",
       "        2.00858893, 0.93136686, 2.00360623, 0.92638416, 2.01434491,\n",
       "        0.93712283, 2.01057454, 0.93335247, 1.9983866 , 0.92116452,\n",
       "        2.00856171, 0.93133964]])"
      ]
     },
     "execution_count": 6,
     "metadata": {},
     "output_type": "execute_result"
    }
   ],
   "source": [
    "measure"
   ]
  },
  {
   "cell_type": "code",
   "execution_count": null,
   "metadata": {},
   "outputs": [],
   "source": []
  }
 ],
 "metadata": {
  "kernelspec": {
   "display_name": "Python 3",
   "language": "python",
   "name": "python3"
  },
  "language_info": {
   "codemirror_mode": {
    "name": "ipython",
    "version": 3
   },
   "file_extension": ".py",
   "mimetype": "text/x-python",
   "name": "python",
   "nbconvert_exporter": "python",
   "pygments_lexer": "ipython3",
   "version": "3.8.5"
  }
 },
 "nbformat": 4,
 "nbformat_minor": 4
}
