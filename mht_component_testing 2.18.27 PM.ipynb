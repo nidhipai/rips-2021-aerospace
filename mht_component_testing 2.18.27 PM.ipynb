{
 "cells": [
  {
   "cell_type": "code",
   "execution_count": 1,
   "metadata": {},
   "outputs": [],
   "source": [
    "import mtt\n",
    "import numpy as np\n",
    "from copy import copy, deepcopy\n",
    "from scipy.stats import chi2"
   ]
  },
  {
   "cell_type": "code",
   "execution_count": 2,
   "metadata": {},
   "outputs": [],
   "source": [
    "# Default simulation values\n",
    "obj1 = np.array([[0], [0], [1], [1]])\n",
    "obj2 = np.array([[-5], [5], [-2], [0]])\n",
    "obj3 = np.array([[5], [-5], [2], [-1]])\n",
    "initial = {0: obj1, 1: obj2}\n",
    "dt = 1\n",
    "ep_normal = 1\n",
    "ep_tangent = 1\n",
    "nu = 1\n",
    "ts = 26\n",
    "miss_p = 0.0001\n",
    "lam = 0.0001\n",
    "fa_scale = 10\n",
    "gen = mtt.MultiObjSimple(initial, dt, ep_tangent, ep_normal, nu)\n",
    "params = gen.get_params()\n",
    "P = params.pop(\"P\")"
   ]
  },
  {
   "cell_type": "code",
   "execution_count": 3,
   "metadata": {},
   "outputs": [],
   "source": [
    "k = mtt.KalmanFilter(**params)"
   ]
  },
  {
   "cell_type": "code",
   "execution_count": 4,
   "metadata": {},
   "outputs": [],
   "source": [
    "gate = mtt.DistanceGatingMHT(0.95)\n",
    "\n",
    "tot = -1000\n",
    "tmm = 0\n",
    "tnt = -1000\n",
    "main = mtt.TrackMaintenanceMHT(tot, tmm, tnt, 1-miss_p, 4, lam, params['R'], k)\n",
    "hypo = mtt.HypothesisComp()\n",
    "prune = mtt.Pruning(4)\n",
    "\n",
    "tracker = mtt.MHTTracker(k, gate, main, hypo, prune)"
   ]
  },
  {
   "cell_type": "code",
   "execution_count": 5,
   "metadata": {},
   "outputs": [],
   "source": [
    "processes = dict()\n",
    "measures = dict()\n",
    "measure_colors = dict()\n",
    "cur_seed = 1\n",
    "rng = np.random.default_rng(cur_seed)\n",
    "process = gen.process(ts, rng)\n",
    "processes[len(processes.keys())] = process\n",
    "measures[len(measures.keys())], measure_colors[len(measure_colors.keys())] = gen.measure(process, rng)\n",
    "# print(processes[0])"
   ]
  },
  {
   "cell_type": "code",
   "execution_count": 6,
   "metadata": {
    "scrolled": true
   },
   "outputs": [
    {
     "name": "stdout",
     "output_type": "stream",
     "text": [
      "___________ Time step: 0 _________________________________\n",
      "number of tracks:  2\n",
      "Length of best hypothesis:  0\n",
      "___________ Time step: 1 _________________________________\n",
      "number of tracks:  3\n",
      "Length of best hypothesis:  2\n",
      "___________ Time step: 2 _________________________________\n",
      "number of tracks:  5\n",
      "Length of best hypothesis:  2\n",
      "___________ Time step: 3 _________________________________\n",
      "number of tracks:  6\n",
      "Length of best hypothesis:  2\n",
      "___________ Time step: 4 _________________________________\n",
      "number of tracks:  7\n",
      "Length of best hypothesis:  2\n",
      "___________ Time step: 5 _________________________________\n"
     ]
    },
    {
     "name": "stderr",
     "output_type": "stream",
     "text": [
      "/Users/eduardososa/projects/python/rips-2021-aerospace/mtt/mht/pruning.py:26: VisibleDeprecationWarning: Creating an ndarray from ragged nested sequences (which is a list-or-tuple of lists-or-tuples-or ndarrays with different lengths or shapes) is deprecated. If you meant to do this, you must specify 'dtype=object' when creating the ndarray.\n",
      "  required_obs = np.array(required_obs)\n"
     ]
    },
    {
     "name": "stdout",
     "output_type": "stream",
     "text": [
      "number of tracks:  6\n",
      "Length of best hypothesis:  2\n",
      "___________ Time step: 6 _________________________________\n",
      "number of tracks:  7\n",
      "Length of best hypothesis:  2\n",
      "___________ Time step: 7 _________________________________\n",
      "number of tracks:  8\n",
      "Length of best hypothesis:  2\n",
      "___________ Time step: 8 _________________________________\n",
      "number of tracks:  7\n",
      "Length of best hypothesis:  2\n",
      "___________ Time step: 9 _________________________________\n",
      "number of tracks:  5\n",
      "Length of best hypothesis:  2\n",
      "___________ Time step: 10 _________________________________\n",
      "number of tracks:  4\n",
      "Length of best hypothesis:  2\n",
      "___________ Time step: 11 _________________________________\n",
      "number of tracks:  5\n",
      "Length of best hypothesis:  2\n",
      "___________ Time step: 12 _________________________________\n",
      "number of tracks:  5\n",
      "Length of best hypothesis:  2\n",
      "___________ Time step: 13 _________________________________\n",
      "number of tracks:  5\n",
      "Length of best hypothesis:  2\n",
      "___________ Time step: 14 _________________________________\n",
      "number of tracks:  5\n",
      "Length of best hypothesis:  2\n",
      "___________ Time step: 15 _________________________________\n",
      "number of tracks:  5\n",
      "Length of best hypothesis:  2\n",
      "___________ Time step: 16 _________________________________\n",
      "number of tracks:  5\n",
      "Length of best hypothesis:  2\n",
      "___________ Time step: 17 _________________________________\n",
      "number of tracks:  4\n",
      "Length of best hypothesis:  2\n",
      "___________ Time step: 18 _________________________________\n",
      "number of tracks:  5\n",
      "Length of best hypothesis:  2\n",
      "___________ Time step: 19 _________________________________\n",
      "number of tracks:  5\n",
      "Length of best hypothesis:  2\n",
      "___________ Time step: 20 _________________________________\n",
      "number of tracks:  5\n",
      "Length of best hypothesis:  2\n",
      "___________ Time step: 21 _________________________________\n",
      "number of tracks:  5\n",
      "Length of best hypothesis:  2\n",
      "___________ Time step: 22 _________________________________\n",
      "number of tracks:  5\n",
      "Length of best hypothesis:  2\n",
      "___________ Time step: 23 _________________________________\n",
      "number of tracks:  5\n",
      "Length of best hypothesis:  2\n",
      "___________ Time step: 24 _________________________________\n",
      "number of tracks:  5\n",
      "Length of best hypothesis:  2\n",
      "___________ Time step: 25 _________________________________\n",
      "number of tracks:  5\n",
      "Length of best hypothesis:  2\n"
     ]
    }
   ],
   "source": [
    "for i in range(len(processes[0])):\n",
    "    tracker.predict(deepcopy(measures[0][i]))"
   ]
  },
  {
   "cell_type": "code",
   "execution_count": 7,
   "metadata": {},
   "outputs": [],
   "source": [
    "# tracker.get_trajectories()"
   ]
  },
  {
   "cell_type": "code",
   "execution_count": 8,
   "metadata": {},
   "outputs": [
    {
     "name": "stdout",
     "output_type": "stream",
     "text": [
      "25\n",
      "24\n",
      "1\n"
     ]
    }
   ],
   "source": [
    "#Calculate longest track\n",
    "lens = []\n",
    "for track in tracker.tracks:\n",
    "    lens.append(len(track.observations))\n",
    "print(max(lens))\n",
    "lens.remove(max(lens))\n",
    "print(max(lens))\n",
    "lens.remove(max(lens))\n",
    "print(max(lens))"
   ]
  },
  {
   "cell_type": "code",
   "execution_count": 9,
   "metadata": {
    "scrolled": true
   },
   "outputs": [
    {
     "name": "stdout",
     "output_type": "stream",
     "text": [
      "Number of Posteriori estimates: 24\n",
      "Number of Posteriori estimates: 25\n"
     ]
    },
    {
     "ename": "KeyError",
     "evalue": "0",
     "output_type": "error",
     "traceback": [
      "\u001b[0;31m---------------------------------------------------------------------------\u001b[0m",
      "\u001b[0;31mKeyError\u001b[0m                                  Traceback (most recent call last)",
      "\u001b[0;32m<ipython-input-9-ada2c397c4f0>\u001b[0m in \u001b[0;36m<module>\u001b[0;34m\u001b[0m\n\u001b[0;32m----> 1\u001b[0;31m \u001b[0mtracker\u001b[0m\u001b[0;34m.\u001b[0m\u001b[0mget_best_trajectory\u001b[0m\u001b[0;34m(\u001b[0m\u001b[0;34m)\u001b[0m\u001b[0;34m\u001b[0m\u001b[0;34m\u001b[0m\u001b[0m\n\u001b[0m",
      "\u001b[0;32m~/projects/python/rips-2021-aerospace/mtt/mht/tracker3.py\u001b[0m in \u001b[0;36mget_best_trajectory\u001b[0;34m(self)\u001b[0m\n\u001b[1;32m     97\u001b[0m             \u001b[0mstep\u001b[0m \u001b[0;34m=\u001b[0m \u001b[0mdict\u001b[0m\u001b[0;34m(\u001b[0m\u001b[0;34m)\u001b[0m\u001b[0;34m\u001b[0m\u001b[0;34m\u001b[0m\u001b[0m\n\u001b[1;32m     98\u001b[0m             \u001b[0;32mfor\u001b[0m \u001b[0mi\u001b[0m\u001b[0;34m,\u001b[0m \u001b[0mtrack_id\u001b[0m \u001b[0;32min\u001b[0m \u001b[0menumerate\u001b[0m\u001b[0;34m(\u001b[0m\u001b[0mself\u001b[0m\u001b[0;34m.\u001b[0m\u001b[0mcur_best_hypothesis\u001b[0m\u001b[0;34m)\u001b[0m\u001b[0;34m:\u001b[0m\u001b[0;34m\u001b[0m\u001b[0;34m\u001b[0m\u001b[0m\n\u001b[0;32m---> 99\u001b[0;31m                 \u001b[0mstep\u001b[0m\u001b[0;34m[\u001b[0m\u001b[0mi\u001b[0m\u001b[0;34m]\u001b[0m \u001b[0;34m=\u001b[0m \u001b[0mself\u001b[0m\u001b[0;34m.\u001b[0m\u001b[0mtracks\u001b[0m\u001b[0;34m[\u001b[0m\u001b[0mtrack_id\u001b[0m\u001b[0;34m]\u001b[0m\u001b[0;34m.\u001b[0m\u001b[0maposteriori_estimates\u001b[0m\u001b[0;34m[\u001b[0m\u001b[0mt\u001b[0m\u001b[0;34m]\u001b[0m\u001b[0;34m\u001b[0m\u001b[0;34m\u001b[0m\u001b[0m\n\u001b[0m\u001b[1;32m    100\u001b[0m             \u001b[0mresult\u001b[0m\u001b[0;34m.\u001b[0m\u001b[0mappend\u001b[0m\u001b[0;34m(\u001b[0m\u001b[0mstep\u001b[0m\u001b[0;34m)\u001b[0m\u001b[0;34m\u001b[0m\u001b[0;34m\u001b[0m\u001b[0m\n\u001b[1;32m    101\u001b[0m         \u001b[0;32mreturn\u001b[0m \u001b[0mresult\u001b[0m\u001b[0;34m\u001b[0m\u001b[0;34m\u001b[0m\u001b[0m\n",
      "\u001b[0;31mKeyError\u001b[0m: 0"
     ]
    }
   ],
   "source": [
    "tracker.get_best_trajectory()"
   ]
  },
  {
   "cell_type": "code",
   "execution_count": null,
   "metadata": {},
   "outputs": [],
   "source": [
    "processes[0]"
   ]
  },
  {
   "cell_type": "code",
   "execution_count": null,
   "metadata": {},
   "outputs": [],
   "source": []
  }
 ],
 "metadata": {
  "kernelspec": {
   "display_name": "Python 3",
   "language": "python",
   "name": "python3"
  },
  "language_info": {
   "codemirror_mode": {
    "name": "ipython",
    "version": 3
   },
   "file_extension": ".py",
   "mimetype": "text/x-python",
   "name": "python",
   "nbconvert_exporter": "python",
   "pygments_lexer": "ipython3",
   "version": "3.9.5"
  }
 },
 "nbformat": 4,
 "nbformat_minor": 4
}
