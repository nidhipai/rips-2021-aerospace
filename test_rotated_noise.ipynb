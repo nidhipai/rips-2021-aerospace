{
 "cells": [
  {
   "cell_type": "code",
   "execution_count": 4,
   "metadata": {},
   "outputs": [],
   "source": [
    "from twod_object import TwoDObject\n",
    "import numpy as np\n",
    "import matplotlib.pyplot as plt"
   ]
  },
  {
   "cell_type": "code",
   "execution_count": 16,
   "metadata": {},
   "outputs": [
    {
     "data": {
      "text/plain": [
       "array([[ 0.        ,  0.1       ,  0.1       ,  0.1       , -0.28341095],\n",
       "       [ 0.        ,  0.        ,  0.        ,  0.        , -0.38341095],\n",
       "       [ 1.        ,  1.        ,  1.        ,  1.        ,  0.61658905],\n",
       "       [ 0.        ,  0.        ,  0.        ,  0.        , -0.38341095]])"
      ]
     },
     "execution_count": 16,
     "metadata": {},
     "output_type": "execute_result"
    },
    {
     "data": {
      "image/png": "[encoded data removed]",
      "text/plain": [
       "<Figure size 432x288 with 1 Axes>"
      ]
     },
     "metadata": {
      "needs_background": "light"
     },
     "output_type": "display_data"
    }
   ],
   "source": [
    "x = np.array([0, 0, 1, 0])\n",
    "x.shape = (4, 1)\n",
    "dt = 0.1\n",
    "ep_normal = 0\n",
    "ep_tangent = 1\n",
    "nu = 1\n",
    "\n",
    "z = TwoDObject(x, dt, ep_normal, ep_tangent, nu)\n",
    "X = z.process(1)\n",
    "#z.Q[2:4, 2:4]\n",
    "#a = np.array([1, 2])\n",
    "#b = np.array([3, 4])\n",
    "#print(a, b)\n",
    "#print(np.append(a, b, axis = 0))\n",
    "#c = np.random.multivariate_normal((0, 0), [[1, 0], [0, 1]])\n",
    "#print(np.append(a, c))\n",
    "\n",
    "plt.plot(X[0], X[1], linewidth = 0, marker = '.')\n",
    "X"
   ]
  },
  {
   "cell_type": "code",
   "execution_count": null,
   "metadata": {},
   "outputs": [],
   "source": []
  }
 ],
 "metadata": {
  "kernelspec": {
   "display_name": "Python 3",
   "language": "python",
   "name": "python3"
  },
  "language_info": {
   "codemirror_mode": {
    "name": "ipython",
    "version": 3
   },
   "file_extension": ".py",
   "mimetype": "text/x-python",
   "name": "python",
   "nbconvert_exporter": "python",
   "pygments_lexer": "ipython3",
   "version": "3.7.6"
  }
 },
 "nbformat": 4,
 "nbformat_minor": 4
}
