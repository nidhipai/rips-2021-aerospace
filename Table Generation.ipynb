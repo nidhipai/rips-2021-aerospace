{
 "cells": [
  {
   "cell_type": "markdown",
   "metadata": {},
   "source": [
    "## Intersecting ##"
   ]
  },
  {
   "cell_type": "code",
   "execution_count": 1,
   "metadata": {},
   "outputs": [],
   "source": [
    "import mtt\n",
    "import numpy as np\n",
    "import matplotlib.pyplot as plt\n",
    "\n",
    "# Default simulation values\n",
    "dt = 1\n",
    "ep_normal = .001\n",
    "ep_tangent = .001\n",
    "nu = 1\n",
    "miss_p = 0\n",
    "lam = 0\n",
    "fa_scale = 2\n",
    "x_lim = 50\n",
    "y_lim = 50\n",
    "new_obj_prop = 0\n",
    "ts = 30\n",
    "\n",
    "# Parameters for the Tracker\n",
    "gate_size = 0.95\n",
    "gate_expand_size = 0.5\n",
    "tot = 0.001\n",
    "tmm = 0.001\n",
    "tnt = 0.99\n",
    "prune_time = 0\n",
    "\n",
    "# Starting Values for this experiment\n",
    "obj1 = np.array([[-10], [0], [1], [0]])\n",
    "obj2 = np.array([[0], [10], [0], [-1]])\n",
    "initial = {0: obj1, 1: obj2}\n",
    "\n",
    "gen = mtt.MultiObjFixed(initial, dt, ep_tangent, ep_normal, nu, miss_p, lam = lam, fa_scale = fa_scale, x_lim = x_lim, y_lim = y_lim, new_obj_prop = new_obj_prop)\n",
    "params = gen.get_params()\n",
    "\n",
    "tracker = mtt.Presets.standardMHT(params, miss_p, lam, gate_size=gate_size, gate_expand_size=gate_expand_size, tot=tot, tmm=tmm, tnt=tnt, born_p=new_obj_prop, prune_time=prune_time, starting_pos=initial)\n",
    "sim = mtt.Simulation(gen, tracker)"
   ]
  },
  {
   "cell_type": "code",
   "execution_count": 2,
   "metadata": {},
   "outputs": [],
   "source": [
    "%%capture\n",
    "# 90 degree intersection - 0 pruning\n",
    "\n",
    "output = sim.test_tracker_model(ts, \"intersection90_prune0.tsv\", iterations = 10, lam = [0, 2], miss_p = [0.1])"
   ]
  },
  {
   "cell_type": "code",
   "execution_count": 3,
   "metadata": {},
   "outputs": [
    {
     "name": "stdout",
     "output_type": "stream",
     "text": [
      "Parameter\tValue\tMOTP\tMOTA\tTime\tTrackCount\n",
      "lam\t0\t22.318895942550864\t0.9991666666666668\t0.0796875\t2.0\n",
      "lam\t2\t21.81913573695831\t1.0\t0.1140625\t2.0\n",
      "miss_p\t0.1\t19.181263503058233\t0.8858333333333333\t0.090625\t1.7\n",
      "\n"
     ]
    }
   ],
   "source": [
    "print(output)"
   ]
  },
  {
   "cell_type": "code",
   "execution_count": 4,
   "metadata": {},
   "outputs": [],
   "source": [
    "prune_time = 5\n",
    "\n",
    "gen = mtt.MultiObjFixed(initial, dt, ep_tangent, ep_normal, nu, miss_p, lam = lam, fa_scale = fa_scale, x_lim = x_lim, y_lim = y_lim, new_obj_prop = new_obj_prop)\n",
    "params = gen.get_params()\n",
    "\n",
    "tracker = mtt.Presets.standardMHT(params, miss_p, lam, gate_size=gate_size, gate_expand_size=gate_expand_size, tot=tot, tmm=tmm, tnt=tnt, born_p=new_obj_prop, prune_time=prune_time, starting_pos=initial)\n",
    "sim = mtt.Simulation(gen, tracker)"
   ]
  },
  {
   "cell_type": "code",
   "execution_count": 5,
   "metadata": {},
   "outputs": [],
   "source": [
    "%%capture\n",
    "# 90 degree intersection - 5 pruning\n",
    "\n",
    "output = sim.test_tracker_model(ts, \"intersection90_prune5.tsv\", iterations = 10, lam = [0, 2], miss_p = [0.1])"
   ]
  },
  {
   "cell_type": "code",
   "execution_count": 6,
   "metadata": {},
   "outputs": [
    {
     "name": "stdout",
     "output_type": "stream",
     "text": [
      "Parameter\tValue\tMOTP\tMOTA\tTime\tTrackCount\n",
      "lam\t0\t19.56866623982334\t0.9991666666666668\t0.9015625\t2.0\n",
      "lam\t2\t22.03170827098567\t0.9941666666666666\t1.1984375\t3.0\n",
      "miss_p\t0.1\t23.51276371051602\t0.9475\t35.490625\t29.1\n",
      "\n"
     ]
    }
   ],
   "source": [
    "print(output)"
   ]
  },
  {
   "cell_type": "markdown",
   "metadata": {},
   "source": [
    "## Parallel ##"
   ]
  },
  {
   "cell_type": "code",
   "execution_count": 7,
   "metadata": {},
   "outputs": [],
   "source": [
    "# Starting Values for this experiment\n",
    "obj1 = np.array([[0], [0], [1], [1]])\n",
    "obj2 = np.array([[0], [5], [1], [1]])\n",
    "initial = {0: obj1, 1: obj2}\n",
    "\n",
    "prune_time = 0\n",
    "\n",
    "gen = mtt.MultiObjFixed(initial, dt, ep_tangent, ep_normal, nu, miss_p, lam = lam, fa_scale = fa_scale, x_lim = x_lim, y_lim = y_lim, new_obj_prop = new_obj_prop)\n",
    "params = gen.get_params()\n",
    "\n",
    "tracker = mtt.Presets.standardMHT(params, miss_p, lam, gate_size=gate_size, gate_expand_size=gate_expand_size, tot=tot, tmm=tmm, tnt=tnt, born_p=new_obj_prop, prune_time=prune_time, starting_pos=initial)\n",
    "sim = mtt.Simulation(gen, tracker)"
   ]
  },
  {
   "cell_type": "code",
   "execution_count": 8,
   "metadata": {},
   "outputs": [],
   "source": [
    "%%capture\n",
    "\n",
    "output = sim.test_tracker_model(ts, \"parallel_prune0.tsv\", iterations = 10, lam = [0, 2], miss_p = [0.1])"
   ]
  },
  {
   "cell_type": "code",
   "execution_count": 9,
   "metadata": {},
   "outputs": [
    {
     "name": "stdout",
     "output_type": "stream",
     "text": [
      "Parameter\tValue\tMOTP\tMOTA\tTime\tTrackCount\n",
      "lam\t0\t19.600515920663845\t1.0\t0.10625\t2.0\n",
      "lam\t2\t20.427086043595814\t1.0\t0.1359375\t2.0\n",
      "miss_p\t0.1\t19.49127962995454\t0.8858333333333333\t0.11875\t1.8\n",
      "\n"
     ]
    }
   ],
   "source": [
    "print(output)"
   ]
  },
  {
   "cell_type": "code",
   "execution_count": 10,
   "metadata": {},
   "outputs": [],
   "source": [
    "prune_time = 2\n",
    "\n",
    "gen = mtt.MultiObjFixed(initial, dt, ep_tangent, ep_normal, nu, miss_p, lam = lam, fa_scale = fa_scale, x_lim = x_lim, y_lim = y_lim, new_obj_prop = new_obj_prop)\n",
    "params = gen.get_params()\n",
    "\n",
    "tracker = mtt.Presets.standardMHT(params, miss_p, lam, gate_size=gate_size, gate_expand_size=gate_expand_size, tot=tot, tmm=tmm, tnt=tnt, born_p=new_obj_prop, prune_time=prune_time, starting_pos=initial)\n",
    "sim = mtt.Simulation(gen, tracker)"
   ]
  },
  {
   "cell_type": "code",
   "execution_count": 11,
   "metadata": {},
   "outputs": [],
   "source": [
    "%%capture\n",
    "\n",
    "output = sim.test_tracker_model(ts, \"parallel_prune2.tsv\", iterations = 10, lam = [0, 2], miss_p = [0.1])"
   ]
  },
  {
   "cell_type": "code",
   "execution_count": 12,
   "metadata": {},
   "outputs": [
    {
     "name": "stdout",
     "output_type": "stream",
     "text": [
      "Parameter\tValue\tMOTP\tMOTA\tTime\tTrackCount\n",
      "lam\t0\t18.856046328033212\t0.9866666666666667\t0.35\t4.8\n",
      "lam\t2\t20.46443793094438\t0.9908333333333335\t0.4421875\t5.0\n",
      "miss_p\t0.1\t20.61744694850746\t0.8674999999999999\t0.8\t11.8\n",
      "\n"
     ]
    }
   ],
   "source": [
    "print(output)"
   ]
  },
  {
   "cell_type": "code",
   "execution_count": 13,
   "metadata": {},
   "outputs": [],
   "source": [
    "prune_time = 4\n",
    "\n",
    "gen = mtt.MultiObjFixed(initial, dt, ep_tangent, ep_normal, nu, miss_p, lam = lam, fa_scale = fa_scale, x_lim = x_lim, y_lim = y_lim, new_obj_prop = new_obj_prop)\n",
    "params = gen.get_params()\n",
    "\n",
    "tracker = mtt.Presets.standardMHT(params, miss_p, lam, gate_size=gate_size, gate_expand_size=gate_expand_size, tot=tot, tmm=tmm, tnt=tnt, born_p=new_obj_prop, prune_time=prune_time, starting_pos=initial)\n",
    "sim = mtt.Simulation(gen, tracker)"
   ]
  },
  {
   "cell_type": "code",
   "execution_count": 14,
   "metadata": {},
   "outputs": [],
   "source": [
    "%%capture\n",
    "\n",
    "output = sim.test_tracker_model(ts, \"parallel_prune4.tsv\", iterations = 10, lam = [0, 2], miss_p = [0.1])"
   ]
  },
  {
   "cell_type": "code",
   "execution_count": 15,
   "metadata": {},
   "outputs": [
    {
     "name": "stdout",
     "output_type": "stream",
     "text": [
      "Parameter\tValue\tMOTP\tMOTA\tTime\tTrackCount\n",
      "lam\t0\t21.455580022108798\t0.9883333333333333\t1.2421875\t16.1\n",
      "lam\t2\t24.114984435168044\t0.9849999999999998\t1.784375\t20.4\n",
      "miss_p\t0.1\t21.367125387936092\t0.8266666666666668\t8.825\t63.0\n",
      "\n"
     ]
    }
   ],
   "source": [
    "print(output)"
   ]
  },
  {
   "cell_type": "code",
   "execution_count": 32,
   "metadata": {},
   "outputs": [],
   "source": [
    "prune_time = 6\n",
    "\n",
    "gen = mtt.MultiObjFixed(initial, dt, ep_tangent, ep_normal, nu, miss_p, lam = lam, fa_scale = fa_scale, x_lim = x_lim, y_lim = y_lim, new_obj_prop = new_obj_prop)\n",
    "params = gen.get_params()\n",
    "\n",
    "tracker = mtt.Presets.standardMHT(params, miss_p, lam, gate_size=gate_size, gate_expand_size=gate_expand_size, tot=tot, tmm=tmm, tnt=tnt, born_p=new_obj_prop, prune_time=prune_time, starting_pos=initial)\n",
    "sim = mtt.Simulation(gen, tracker)"
   ]
  },
  {
   "cell_type": "code",
   "execution_count": 33,
   "metadata": {},
   "outputs": [],
   "source": [
    "%%capture\n",
    "\n",
    "output = sim.test_tracker_model(ts, \"parallel_prune6.tsv\", iterations = 10, lam = [0, 2], miss_p = [0.1])"
   ]
  },
  {
   "cell_type": "code",
   "execution_count": 34,
   "metadata": {},
   "outputs": [
    {
     "name": "stdout",
     "output_type": "stream",
     "text": [
      "Parameter\tValue\tMOTP\tMOTA\tTime\tTrackCount\n",
      "lam\t0\t14.668799425009956\t0.7999688312365578\t6.896875\t82.1\n",
      "lam\t2\t15.757086282213333\t0.7900823610297927\t26.2203125\t98.1\n",
      "miss_p\t0.1\t7.393213203184565\t0.6476148862748172\t1.4625\t18.7\n",
      "\n"
     ]
    }
   ],
   "source": [
    "print(output)"
   ]
  },
  {
   "cell_type": "markdown",
   "metadata": {},
   "source": [
    "## Object Births ##"
   ]
  },
  {
   "cell_type": "code",
   "execution_count": 35,
   "metadata": {},
   "outputs": [],
   "source": [
    "# Default simulation values\n",
    "ep_normal = .01\n",
    "ep_tangent = .01\n",
    "miss_p = 0\n",
    "lam = 0\n",
    "new_obj_prop = 0.1\n",
    "ts = 30\n",
    "\n",
    "# Parameters for the Tracker\n",
    "gate_size = 0.95\n",
    "gate_expand_size = 0.5\n",
    "tot = 0.001\n",
    "tnt = 0.99\n",
    "prune_time = 5\n",
    "\n",
    "tmm = 0.001\n",
    "\n",
    "# Starting Values for this experiment\n",
    "obj1 = np.array([[0], [0], [1], [1]])\n",
    "initial = {0: obj1, 1: obj2}\n",
    "\n",
    "gen = mtt.MultiObjFixed(initial, dt, ep_tangent, ep_normal, nu, miss_p, lam = lam, fa_scale = fa_scale, x_lim = x_lim, y_lim = y_lim, new_obj_prop = new_obj_prop)\n",
    "params = gen.get_params()\n",
    "\n",
    "tracker = mtt.Presets.standardMHT(params, miss_p, lam, gate_size=gate_size, gate_expand_size=gate_expand_size, tot=tot, tmm=tmm, tnt=tnt, born_p=new_obj_prop, prune_time=prune_time, starting_pos=initial)\n",
    "sim = mtt.Simulation(gen, tracker)"
   ]
  },
  {
   "cell_type": "code",
   "execution_count": 36,
   "metadata": {},
   "outputs": [],
   "source": [
    "%%capture\n",
    "\n",
    "output = sim.test_tracker_model(ts, \"births_tmm001.tsv\", iterations = 10, lam = [0, 2], miss_p = [0.1])"
   ]
  },
  {
   "cell_type": "code",
   "execution_count": 37,
   "metadata": {},
   "outputs": [
    {
     "name": "stdout",
     "output_type": "stream",
     "text": [
      "Parameter\tValue\tMOTP\tMOTA\tTime\tTrackCount\n",
      "lam\t0\t13.764928501438092\t0.765236238566718\t2.725\t33.6\n",
      "lam\t2\t14.641305666975313\t0.7664969960127219\t3.48125\t53.6\n",
      "miss_p\t0.1\t14.209936397599417\t0.7334548678979121\t74.0109375\t260.2\n",
      "\n"
     ]
    }
   ],
   "source": [
    "print(output)"
   ]
  },
  {
   "cell_type": "code",
   "execution_count": 47,
   "metadata": {},
   "outputs": [],
   "source": [
    "tmm = 0.01\n",
    "\n",
    "\n",
    "gen = mtt.MultiObjFixed(initial, dt, ep_tangent, ep_normal, nu, miss_p, lam = lam, fa_scale = fa_scale, x_lim = x_lim, y_lim = y_lim, new_obj_prop = new_obj_prop)\n",
    "params = gen.get_params()\n",
    "\n",
    "tracker = mtt.Presets.standardMHT(params, miss_p, lam, gate_size=gate_size, gate_expand_size=gate_expand_size, tot=tot, tmm=tmm, tnt=tnt, born_p=new_obj_prop, prune_time=prune_time, starting_pos=initial)\n",
    "sim = mtt.Simulation(gen, tracker)"
   ]
  },
  {
   "cell_type": "code",
   "execution_count": 48,
   "metadata": {},
   "outputs": [],
   "source": [
    "%%capture\n",
    "\n",
    "output = sim.test_tracker_model(ts, \"births_tmm01.tsv\", iterations = 10, lam = [0, 2], miss_p = [0.1])"
   ]
  },
  {
   "cell_type": "code",
   "execution_count": 49,
   "metadata": {},
   "outputs": [
    {
     "name": "stdout",
     "output_type": "stream",
     "text": [
      "Parameter\tValue\tMOTP\tMOTA\tTime\tTrackCount\n",
      "lam\t0\t16.85269605540006\t0.8266738118560983\t3.596875\t18.1\n",
      "lam\t2\t16.453820207926476\t0.8003757108929046\t5.5828125\t23.8\n",
      "miss_p\t0.1\t15.580756597494688\t0.7616462483147876\t60.553125\t136.7\n",
      "\n"
     ]
    }
   ],
   "source": [
    "print(output)"
   ]
  },
  {
   "cell_type": "code",
   "execution_count": 50,
   "metadata": {},
   "outputs": [],
   "source": [
    "tmm = 0.1\n",
    "\n",
    "\n",
    "gen = mtt.MultiObjFixed(initial, dt, ep_tangent, ep_normal, nu, miss_p, lam = lam, fa_scale = fa_scale, x_lim = x_lim, y_lim = y_lim, new_obj_prop = new_obj_prop)\n",
    "params = gen.get_params()\n",
    "\n",
    "tracker = mtt.Presets.standardMHT(params, miss_p, lam, gate_size=gate_size, gate_expand_size=gate_expand_size, tot=tot, tmm=tmm, tnt=tnt, born_p=new_obj_prop, prune_time=prune_time, starting_pos=initial)\n",
    "sim = mtt.Simulation(gen, tracker)"
   ]
  },
  {
   "cell_type": "code",
   "execution_count": 51,
   "metadata": {},
   "outputs": [],
   "source": [
    "%%capture\n",
    "\n",
    "output = sim.test_tracker_model(ts, \"births_tmm1.tsv\", iterations = 10, lam = [0, 2], miss_p = [0.1])"
   ]
  },
  {
   "cell_type": "code",
   "execution_count": 52,
   "metadata": {},
   "outputs": [
    {
     "name": "stdout",
     "output_type": "stream",
     "text": [
      "Parameter\tValue\tMOTP\tMOTA\tTime\tTrackCount\n",
      "lam\t0\t14.874287515694752\t0.7841955975127666\t6.7359375\t63.5\n",
      "lam\t2\t17.444050298201127\t0.8059774214554005\t8.625\t53.5\n",
      "miss_p\t0.1\t10.041183935498918\t0.6816694396086616\t56.475\t118.5\n",
      "\n"
     ]
    }
   ],
   "source": [
    "print(output)"
   ]
  },
  {
   "cell_type": "code",
   "execution_count": 53,
   "metadata": {},
   "outputs": [],
   "source": [
    "tmm = 0.5\n",
    "\n",
    "\n",
    "gen = mtt.MultiObjFixed(initial, dt, ep_tangent, ep_normal, nu, miss_p, lam = lam, fa_scale = fa_scale, x_lim = x_lim, y_lim = y_lim, new_obj_prop = new_obj_prop)\n",
    "params = gen.get_params()\n",
    "\n",
    "tracker = mtt.Presets.standardMHT(params, miss_p, lam, gate_size=gate_size, gate_expand_size=gate_expand_size, tot=tot, tmm=tmm, tnt=tnt, born_p=new_obj_prop, prune_time=prune_time, starting_pos=initial)\n",
    "sim = mtt.Simulation(gen, tracker)"
   ]
  },
  {
   "cell_type": "code",
   "execution_count": 54,
   "metadata": {},
   "outputs": [],
   "source": [
    "%%capture\n",
    "\n",
    "output = sim.test_tracker_model(ts, \"births_tmm5.tsv\", iterations = 10, lam = [0, 2], miss_p = [0.1])"
   ]
  },
  {
   "cell_type": "code",
   "execution_count": 55,
   "metadata": {},
   "outputs": [
    {
     "name": "stdout",
     "output_type": "stream",
     "text": [
      "Parameter\tValue\tMOTP\tMOTA\tTime\tTrackCount\n",
      "lam\t0\t16.049067918080876\t0.8193860278812604\t3.203125\t25.9\n",
      "lam\t2\t14.899714115911763\t0.774244932437469\t4.9125\t30.6\n",
      "miss_p\t0.1\t4.424383037298272\t0.6294482695773477\t1.3328125\t11.8\n",
      "\n"
     ]
    }
   ],
   "source": [
    "print(output)"
   ]
  },
  {
   "cell_type": "code",
   "execution_count": null,
   "metadata": {},
   "outputs": [],
   "source": []
  }
 ],
 "metadata": {
  "kernelspec": {
   "display_name": "Python 3",
   "language": "python",
   "name": "python3"
  },
  "language_info": {
   "codemirror_mode": {
    "name": "ipython",
    "version": 3
   },
   "file_extension": ".py",
   "mimetype": "text/x-python",
   "name": "python",
   "nbconvert_exporter": "python",
   "pygments_lexer": "ipython3",
   "version": "3.8.5"
  }
 },
 "nbformat": 4,
 "nbformat_minor": 4
}
