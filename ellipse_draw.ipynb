{
 "cells": [
  {
   "cell_type": "code",
   "execution_count": null,
   "metadata": {},
   "outputs": [],
   "source": [
    "import numpy as np\n",
    "import matplotlib.pyplot as plt\n",
    "from matplotlib.patches import Ellipse\n",
    "import math\n",
    "import array_to_latex as a2l"
   ]
  },
  {
   "cell_type": "code",
   "execution_count": null,
   "metadata": {},
   "outputs": [],
   "source": [
    "mean = (0, 0)\n",
    "cov = [[1, 0.5], [0.5, 1]]\n",
    "X = np.random.multivariate_normal(mean, cov, 10000)\n",
    "plt.plot(X[:,0], X[:,1], marker = '.', linewidth = 0, alpha = 0.05)\n",
    "axes=plt.gca()\n",
    "axes.set_aspect(1)\n",
    "\n",
    "w, v = np.linalg.eig(cov)\n",
    "ang = math.atan2(v[0,0], v[1,0]) / math.pi * 180\n",
    "print(v[0,0], v[0,1], ang)\n",
    "ellipse = Ellipse(xy=(0, 0), width= 2 * w[0], height= 2 * w[1], angle = ang, edgecolor='r', fc='none', lw=4)\n",
    "\n",
    "axes.add_patch(ellipse)\n",
    "plt.show()\n"
   ]
  },
  {
   "cell_type": "code",
   "execution_count": null,
   "metadata": {},
   "outputs": [],
   "source": []
  }
 ],
 "metadata": {
  "kernelspec": {
   "display_name": "Python 3",
   "language": "python",
   "name": "python3"
  },
  "language_info": {
   "codemirror_mode": {
    "name": "ipython",
    "version": 3
   },
   "file_extension": ".py",
   "mimetype": "text/x-python",
   "name": "python",
   "nbconvert_exporter": "python",
   "pygments_lexer": "ipython3",
   "version": "3.7.6"
  }
 },
 "nbformat": 4,
 "nbformat_minor": 4
}
