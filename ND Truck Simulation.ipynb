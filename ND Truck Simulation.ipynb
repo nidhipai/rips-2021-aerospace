{
 "cells": [
  {
   "cell_type": "code",
   "execution_count": 18,
   "metadata": {},
   "outputs": [],
   "source": [
    "import numpy as np\n",
    "import matplotlib.pyplot as plt\n",
    "from mpl_toolkits import mplot3d\n",
    "from SmartTruck import SmartTruck\n",
    "from kalmanfilter2 import KalmanFilter"
   ]
  },
  {
   "cell_type": "code",
   "execution_count": 2,
   "metadata": {},
   "outputs": [
    {
     "data": {
      "text/plain": [
       "array([[9.23057466e-312],\n",
       "       [5.76887126e-313],\n",
       "       [9.23019401e-312],\n",
       "       [6.73134807e+175]])"
      ]
     },
     "execution_count": 2,
     "metadata": {},
     "output_type": "execute_result"
    }
   ],
   "source": [
    "output = np.empty((4, 1))\n",
    "output"
   ]
  },
  {
   "cell_type": "code",
   "execution_count": 3,
   "metadata": {},
   "outputs": [],
   "source": [
    "ds = 3\n",
    "t = 100 # number of time steps to run\n",
    "dt = 0.1 # time step\n",
    "ep = 0.1 # process noise variation\n",
    "nu = 0.4 # measurement noise variation (both position and velocity)\n",
    "initial = np.ones(ds*2)\n",
    "initial.shape = (ds*2,1)\n",
    "\n",
    "gen = SmartTruck(initial, t, dt, ep, nu)\n",
    "process = gen.process()\n",
    "measure = gen.measure(process)"
   ]
  },
  {
   "cell_type": "code",
   "execution_count": 12,
   "metadata": {},
   "outputs": [],
   "source": [
    "output = np.empty((ds*2, 1))\n",
    "z = np.zeros((ds,ds))\n",
    "Q = np.block([[z,z],[z,np.eye(ds)*ep]])\n",
    "R = np.eye(ds) * nu\n",
    "filter = KalmanFilter(initial, gen.A, Q, R, gen.H)\n",
    "for i in range(t+1):\n",
    "    measure_t = measure[:,i]\n",
    "    measure_t.shape = (ds,1)\n",
    "    filter.predict(measure_t)\n",
    "    kalman_output = filter.get_current_guess()\n",
    "    output = np.append(output, kalman_output, axis=1)"
   ]
  },
  {
   "cell_type": "code",
   "execution_count": 22,
   "metadata": {},
   "outputs": [
    {
     "name": "stdout",
     "output_type": "stream",
     "text": [
      "Using matplotlib backend: Qt5Agg\n"
     ]
    },
    {
     "data": {
      "text/plain": [
       "<matplotlib.legend.Legend at 0x1b2804870a0>"
      ]
     },
     "execution_count": 22,
     "metadata": {},
     "output_type": "execute_result"
    }
   ],
   "source": [
    "%matplotlib\n",
    "ax = plt.axes(projection='3d')\n",
    "\n",
    "sz = 5\n",
    "a = 0.8\n",
    "ax.scatter3D(process[0], process[1], process[2], s=sz, alpha=a)\n",
    "ax.scatter3D(measure[0], measure[1], measure[2], s=sz, alpha=a)\n",
    "ax.scatter3D(output[0], output[1], output[2], s=sz, alpha=a, color='black')\n",
    "plt.title(\"Position\")\n",
    "plt.xlabel(\"x\")\n",
    "plt.ylabel(\"y\")\n",
    "plt.legend([\"Process\",\"Measure\",\"Filter\"])"
   ]
  }
 ],
 "metadata": {
  "kernelspec": {
   "display_name": "Python 3",
   "language": "python",
   "name": "python3"
  },
  "language_info": {
   "codemirror_mode": {
    "name": "ipython",
    "version": 3
   },
   "file_extension": ".py",
   "mimetype": "text/x-python",
   "name": "python",
   "nbconvert_exporter": "python",
   "pygments_lexer": "ipython3",
   "version": "3.8.5"
  }
 },
 "nbformat": 4,
 "nbformat_minor": 4
}
