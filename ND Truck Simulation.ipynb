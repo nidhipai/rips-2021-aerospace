{
 "cells": [
  {
   "cell_type": "markdown",
   "metadata": {
    "slideshow": {
     "slide_type": "slide"
    }
   },
   "source": [
    "# nD Truck Simulation\n",
    "\n",
    "RIPS 2021 Aerospace Team\n",
    "\n",
    "June 24, 2021"
   ]
  },
  {
   "cell_type": "code",
   "execution_count": 34,
   "metadata": {
    "slideshow": {
     "slide_type": "skip"
    }
   },
   "outputs": [],
   "source": [
    "import numpy as np\n",
    "import random\n",
    "import matplotlib.pyplot as plt\n",
    "import matplotlib.markers\n",
    "from mpl_toolkits import mplot3d\n",
    "from SmartTruck import SmartTruck\n",
    "from kalmanfilter2 import KalmanFilter"
   ]
  },
  {
   "cell_type": "markdown",
   "metadata": {
    "slideshow": {
     "slide_type": "slide"
    }
   },
   "source": [
    "## Create process data and measurements\n",
    "The initial position and velocity are set to 1 for all axes. We first generate the ground truth process data, and then generate the measurements from that data."
   ]
  },
  {
   "cell_type": "code",
   "execution_count": 35,
   "metadata": {
    "slideshow": {
     "slide_type": "subslide"
    }
   },
   "outputs": [],
   "source": [
    "ds = 2 # dimensions\n",
    "t = 100 # number of time steps to run\n",
    "dt = 0.1 # time step length\n",
    "ep_mag = 0.1 # process noise variation\n",
    "ep_dir = np.array([1,1])\n",
    "nu = 0.4 # measurement noise variation (both position and velocity)\n",
    "initial = np.ones(ds*2)\n",
    "initial.shape = (ds*2,1)\n",
    "\n",
    "gen = SmartTruck(initial, t, dt, ep_mag, ep_dir, nu)\n",
    "process = gen.process()\n",
    "measure = gen.measure(process)"
   ]
  },
  {
   "cell_type": "markdown",
   "metadata": {
    "slideshow": {
     "slide_type": "slide"
    }
   },
   "source": [
    "## Run Kalman filter and generate plots"
   ]
  },
  {
   "cell_type": "code",
   "execution_count": 54,
   "metadata": {
    "slideshow": {
     "slide_type": "subslide"
    }
   },
   "outputs": [],
   "source": [
    "output = np.empty((ds*2, 1))\n",
    "zero_matrix = np.zeros((ds,ds)) # create an array of zeros for future use\n",
    "filter = KalmanFilter(initial, gen.A, gen.Q, gen.R, gen.H)\n",
    "prop = 0.5 # proportion of measurements lost\n",
    "for i in range(t+1):\n",
    "    measure_t = measure[:,i]\n",
    "    measure_t.shape = (ds,1)\n",
    "    if np.random.random() > prop:\n",
    "        filter.predict(measure_t)\n",
    "    else:\n",
    "        filter.predict()\n",
    "    kalman_output = filter.get_current_guess()\n",
    "    output = np.append(output, kalman_output, axis=1)\n",
    "output = output[:,1:] # delete the first column (initial data)"
   ]
  },
  {
   "cell_type": "code",
   "execution_count": 55,
   "metadata": {
    "slideshow": {
     "slide_type": "subslide"
    }
   },
   "outputs": [
    {
     "data": {
      "image/png": "[encoded data removed]",
      "text/plain": [
       "<Figure size 432x288 with 1 Axes>"
      ]
     },
     "metadata": {
      "needs_background": "light"
     },
     "output_type": "display_data"
    }
   ],
   "source": [
    "if ds == 2:\n",
    "    %matplotlib inline\n",
    "    sz = 5 # size of marker\n",
    "    a = 0.8 # transparency\n",
    "    plt.scatter(process[0], process[1], s=sz, alpha=a, color = 'red', marker = 'o')\n",
    "    plt.scatter(measure[0], measure[1], s=sz, alpha=a, color = 'blue', marker = '+')\n",
    "    plt.scatter(output[0], output[1], s=sz, alpha=a, color='black', marker = 'x')\n",
    "    plt.title(\"Position\")\n",
    "    plt.xlabel(\"x\")\n",
    "    plt.ylabel(\"y\")\n",
    "    plt.legend([\"Process\",\"Measure\",\"Filter\"])"
   ]
  },
  {
   "cell_type": "code",
   "execution_count": 32,
   "metadata": {
    "slideshow": {
     "slide_type": "subslide"
    }
   },
   "outputs": [],
   "source": [
    "if ds == 3:\n",
    "    #%matplotlib # plots are in a new window so they can be dragged\n",
    "    ax = plt.axes(projection='3d')\n",
    "    sz = 5 # size of marker\n",
    "    a = 0.8 # transparency\n",
    "    ax.scatter3D(process[0], process[1], process[2], s=sz, alpha=a)\n",
    "    ax.scatter3D(measure[0], measure[1], measure[2], s=sz, alpha=a)\n",
    "    ax.scatter3D(output[0], output[1], output[2], s=sz, alpha=a, color='black')\n",
    "    plt.title(\"Position\")\n",
    "    ax.set_xlabel(\"x\")\n",
    "    ax.set_ylabel(\"y\")\n",
    "    ax.set_zlabel(\"z\")\n",
    "    plt.legend([\"Process\",\"Measure\",\"Filter\"])"
   ]
  },
  {
   "cell_type": "code",
   "execution_count": null,
   "metadata": {},
   "outputs": [],
   "source": []
  }
 ],
 "metadata": {
  "kernelspec": {
   "display_name": "Python 3",
   "language": "python",
   "name": "python3"
  },
  "language_info": {
   "codemirror_mode": {
    "name": "ipython",
    "version": 3
   },
   "file_extension": ".py",
   "mimetype": "text/x-python",
   "name": "python",
   "nbconvert_exporter": "python",
   "pygments_lexer": "ipython3",
   "version": "3.7.6"
  }
 },
 "nbformat": 4,
 "nbformat_minor": 4
}
