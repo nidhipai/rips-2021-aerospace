{
 "cells": [
  {
   "cell_type": "code",
   "execution_count": 1,
   "metadata": {},
   "outputs": [],
   "source": [
    "import mtt\n",
    "import numpy as np\n",
    "from copy import copy, deepcopy"
   ]
  },
  {
   "cell_type": "code",
   "execution_count": 2,
   "metadata": {},
   "outputs": [],
   "source": [
    "# Default simulation values\n",
    "obj1 = np.array([[0], [0], [1], [1]])\n",
    "obj2 = np.array([[1], [1], [1], [1]])\n",
    "initial = {0: obj1}\n",
    "dt = 1\n",
    "ep_normal = 1\n",
    "ep_tangent = 1\n",
    "nu = 1\n",
    "ts = 6\n",
    "miss_p = 0.01\n",
    "lam = 0.01\n",
    "fa_scale = 10\n",
    "gen = mtt.MultiObjSimple(initial, dt, ep_tangent, ep_normal, nu)\n",
    "params = gen.get_params()\n",
    "P = params.pop(\"P\")"
   ]
  },
  {
   "cell_type": "code",
   "execution_count": 3,
   "metadata": {
    "scrolled": true
   },
   "outputs": [
    {
     "data": {
      "text/plain": [
       "{'f': <bound method MultiObjSimple.process_function of <mtt.multiobject_simple.MultiObjSimple object at 0x16a64bdf0>>,\n",
       " 'A': <bound method MultiObjSimple.process_jacobian of <mtt.multiobject_simple.MultiObjSimple object at 0x16a64bdf0>>,\n",
       " 'h': <bound method MultiObjSimple.measurement_function of <mtt.multiobject_simple.MultiObjSimple object at 0x16a64bdf0>>,\n",
       " 'Q': array([[0., 0., 0., 0.],\n",
       "        [0., 0., 0., 0.],\n",
       "        [0., 0., 1., 0.],\n",
       "        [0., 0., 0., 1.]]),\n",
       " 'W': <bound method MultiObjSimple.W of <mtt.multiobject_simple.MultiObjSimple object at 0x16a64bdf0>>,\n",
       " 'R': array([[1., 0., 0., 0.],\n",
       "        [0., 1., 0., 0.],\n",
       "        [0., 0., 1., 0.],\n",
       "        [0., 0., 0., 1.]]),\n",
       " 'H': array([[1., 0., 0., 0.],\n",
       "        [0., 1., 0., 0.],\n",
       "        [0., 0., 1., 0.],\n",
       "        [0., 0., 0., 1.]])}"
      ]
     },
     "execution_count": 3,
     "metadata": {},
     "output_type": "execute_result"
    }
   ],
   "source": [
    "params"
   ]
  },
  {
   "cell_type": "code",
   "execution_count": 4,
   "metadata": {},
   "outputs": [],
   "source": [
    "k = mtt.KalmanFilter(**params)"
   ]
  },
  {
   "cell_type": "code",
   "execution_count": 5,
   "metadata": {},
   "outputs": [
    {
     "data": {
      "text/plain": [
       "(array([[1.],\n",
       "        [1.],\n",
       "        [1.],\n",
       "        [1.]]),\n",
       " array([[ 6.25000000e-01,  1.58539631e-19,  1.25000000e-01,\n",
       "         -4.75618892e-19],\n",
       "        [ 1.58539631e-19,  6.25000000e-01, -4.75618892e-19,\n",
       "          1.25000000e-01],\n",
       "        [ 1.25000000e-01, -4.75618892e-19,  6.25000000e-01,\n",
       "          1.42685668e-18],\n",
       "        [-4.75618892e-19,  1.25000000e-01,  1.42685668e-18,\n",
       "          6.25000000e-01]]))"
      ]
     },
     "execution_count": 5,
     "metadata": {},
     "output_type": "execute_result"
    }
   ],
   "source": [
    "xt, P = k.time_update(obj1, P)\n",
    "k.measurement_update(xt, P, obj2)"
   ]
  },
  {
   "cell_type": "code",
   "execution_count": 6,
   "metadata": {},
   "outputs": [],
   "source": [
    "gate = mtt.DistanceGatingMHT(0.9)\n",
    "\n",
    "tot = -1000\n",
    "tmm = -2000\n",
    "tnt = -3000\n",
    "main = mtt.TrackMaintenanceMHT(tot, tmm, tnt, 1-miss_p, 4, lam, params['R'], k)\n",
    "hypo = mtt.HypothesisComp()\n",
    "prune = mtt.Pruning(4)\n",
    "\n",
    "tracker = mtt.MHTTracker(k, gate, main, hypo, prune)"
   ]
  },
  {
   "cell_type": "code",
   "execution_count": 7,
   "metadata": {},
   "outputs": [
    {
     "data": {
      "text/plain": [
       "[]"
      ]
     },
     "execution_count": 7,
     "metadata": {},
     "output_type": "execute_result"
    }
   ],
   "source": [
    "tracker.measurements"
   ]
  },
  {
   "cell_type": "code",
   "execution_count": 8,
   "metadata": {},
   "outputs": [],
   "source": [
    "# test = np.zeros(4)\n",
    "# test.shape = (4,1)\n",
    "# tracker.predict([test])"
   ]
  },
  {
   "cell_type": "code",
   "execution_count": 9,
   "metadata": {},
   "outputs": [
    {
     "data": {
      "text/plain": [
       "[]"
      ]
     },
     "execution_count": 9,
     "metadata": {},
     "output_type": "execute_result"
    }
   ],
   "source": [
    "tracker.tracks"
   ]
  },
  {
   "cell_type": "code",
   "execution_count": 10,
   "metadata": {},
   "outputs": [
    {
     "data": {
      "text/plain": [
       "[]"
      ]
     },
     "execution_count": 10,
     "metadata": {},
     "output_type": "execute_result"
    }
   ],
   "source": [
    "tracker.get_trajectories()"
   ]
  },
  {
   "cell_type": "code",
   "execution_count": 11,
   "metadata": {},
   "outputs": [
    {
     "data": {
      "text/plain": [
       "[]"
      ]
     },
     "execution_count": 11,
     "metadata": {},
     "output_type": "execute_result"
    }
   ],
   "source": [
    "tracker.tracks"
   ]
  },
  {
   "cell_type": "code",
   "execution_count": 12,
   "metadata": {},
   "outputs": [
    {
     "name": "stdout",
     "output_type": "stream",
     "text": [
      "[{0: array([[0],\n",
      "       [0],\n",
      "       [1],\n",
      "       [1]])}, {0: array([[ 1.        ],\n",
      "       [ 1.        ],\n",
      "       [ 1.02428975],\n",
      "       [-0.6598427 ]])}, {0: array([[2.02428975],\n",
      "       [0.3401573 ],\n",
      "       [0.88472568],\n",
      "       [0.87557323]])}, {0: array([[2.90901544],\n",
      "       [1.21573053],\n",
      "       [1.33344207],\n",
      "       [0.41268345]])}, {0: array([[4.2424575 ],\n",
      "       [1.62841398],\n",
      "       [0.18019455],\n",
      "       [0.38558545]])}, {0: array([[ 4.42265205],\n",
      "       [ 2.01399942],\n",
      "       [-0.2467969 ],\n",
      "       [ 0.23506988]])}]\n"
     ]
    }
   ],
   "source": [
    "processes = dict()\n",
    "measures = dict()\n",
    "measure_colors = dict()\n",
    "cur_seed = np.random.randint(10**7)\n",
    "rng = np.random.default_rng(cur_seed)\n",
    "process = gen.process(5, rng)\n",
    "processes[len(processes.keys())] = process\n",
    "measures[len(measures.keys())], measure_colors[len(measure_colors.keys())] = gen.measure(process, rng)\n",
    "print(processes[0])"
   ]
  },
  {
   "cell_type": "code",
   "execution_count": 13,
   "metadata": {},
   "outputs": [
    {
     "name": "stdout",
     "output_type": "stream",
     "text": [
      "([0], 1000)\n",
      "NODES:  [0]\n",
      "[0]\n",
      "--------\n",
      "([1, 2], 1032)\n",
      "NODES:  [0, 1, 2]\n",
      "[1, 2]\n",
      "--------\n",
      "([6], 1000)\n",
      "NODES:  [0, 1, 2, 3, 4, 5, 6]\n",
      "[6]\n",
      "--------\n",
      "([14], 1000)\n",
      "NODES:  [0, 1, 2, 3, 4, 5, 6, 7, 8, 9, 10, 11, 12, 13, 14]\n",
      "[14]\n",
      "--------\n",
      "([30], 1000)\n",
      "NODES:  [0, 1, 2, 3, 4, 5, 6, 7, 8, 9, 10, 11, 12, 13, 14, 15, 16, 17, 18, 19, 20, 21, 22, 23, 24, 25, 26, 27, 28, 29, 30]\n",
      "[30]\n",
      "--------\n",
      "([62], 1000)\n",
      "NODES:  [0, 1, 2, 3, 4, 5, 6, 7, 8, 9, 10, 11, 12, 13, 14, 15, 16, 17, 18, 19, 20, 21, 22, 23, 24, 25, 26, 27, 28, 29, 30, 31, 32, 33, 34, 35, 36, 37, 38, 39, 40, 41, 42, 43, 44, 45, 46, 47, 48, 49, 50, 51, 52, 53, 54, 55, 56, 57, 58, 59, 60, 61, 62]\n",
      "[62]\n",
      "--------\n"
     ]
    }
   ],
   "source": [
    "for i in range(len(processes[0])):\n",
    "    tracker.predict(deepcopy(measures[0][i]))"
   ]
  },
  {
   "cell_type": "code",
   "execution_count": 14,
   "metadata": {},
   "outputs": [
    {
     "name": "stdout",
     "output_type": "stream",
     "text": [
      "([0], 1)\n"
     ]
    }
   ],
   "source": [
    "import networkx as nx\n",
    "import networkx.algorithms.clique as nxac\n",
    "g = nx.Graph()\n",
    "g.add_node(0, weight = 1)\n",
    "print(nxac.max_weight_clique(g))"
   ]
  },
  {
   "cell_type": "code",
   "execution_count": null,
   "metadata": {},
   "outputs": [],
   "source": []
  }
 ],
 "metadata": {
  "kernelspec": {
   "display_name": "Python 3",
   "language": "python",
   "name": "python3"
  },
  "language_info": {
   "codemirror_mode": {
    "name": "ipython",
    "version": 3
   },
   "file_extension": ".py",
   "mimetype": "text/x-python",
   "name": "python",
   "nbconvert_exporter": "python",
   "pygments_lexer": "ipython3",
   "version": "3.9.5"
  }
 },
 "nbformat": 4,
 "nbformat_minor": 4
}
